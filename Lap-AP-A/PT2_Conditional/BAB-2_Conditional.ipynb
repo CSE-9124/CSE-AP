{
 "cells": [
  {
   "cell_type": "markdown",
   "metadata": {},
   "source": [
    "# <font color = '555555'> <center> BAB II : Conditional </font>"
   ]
  },
  {
   "cell_type": "markdown",
   "metadata": {},
   "source": [
    "Conditional statement atau pengkondisian merupakan sebuah fitur dari bahasa pemrograman yang berfungsi untuk melakukan tindakan berbeda sesuai dengan kondisi yang ditetapkan oleh seorang programmer.\n",
    "\n",
    "Dengan pengkondisian, seorang programmer dapat menciptakan percabangan pada kode pemrograman mereka dan akan tereksekusi jika kondisinya terpenuhi\n",
    "\n",
    "Layaknya bahasa pemrograman lain, python programming language menggunakan keyword *if*, *elif*, dan *else* statement dalam membuat sebuah alur percabangan."
   ]
  },
  {
   "cell_type": "markdown",
   "metadata": {},
   "source": [
    "## <font color = '#5DADE2'> A. Tabel Operator Perbandingan </font>\n",
    "● >     : **Lebih Besar dari** (akan bernilai True jika operand di kiri lebih besar dari kanan)\n",
    "\n",
    "● <     : **Lebih Kecil dari** (akan bernilai True jika operand di kiri lebih kecil dari kanan)\n",
    "\n",
    "● ==    : **Sama dengan** (bernilai True\n",
    "jika kedua operand memiliki\n",
    "value yang sama)"
   ]
  },
  {
   "cell_type": "code",
   "execution_count": null,
   "metadata": {},
   "outputs": [],
   "source": []
  }
 ],
 "metadata": {
  "language_info": {
   "name": "python"
  }
 },
 "nbformat": 4,
 "nbformat_minor": 2
}
