{
 "cells": [
  {
   "cell_type": "markdown",
   "metadata": {},
   "source": [
    "# <font color = '555555'> <center> BAB V : String Manipulation"
   ]
  },
  {
   "cell_type": "markdown",
   "metadata": {},
   "source": [
    "*String Manipulation* dalam python adalah sebuah cara yang digunakan untuk memodifikasi sebuah string atau membuat string baru dengan membuat perubahan pada string yang telah dibuat."
   ]
  },
  {
   "cell_type": "markdown",
   "metadata": {},
   "source": [
    "## <font color = '#5DADE2'> 1. Membuat String di Python </font>\n",
    "Untuk membuat string dengan berbagai macam karakter, kita bisa\n",
    "menginisialisasinya dengan membuat nama string tesebut lalu menempatkan string\n",
    "tersebut di samping namanya dan menaruh string tersebut di dalam petik dua atau\n",
    "petik satu.\n",
    "\n",
    "Contoh :"
   ]
  },
  {
   "cell_type": "code",
   "execution_count": 1,
   "metadata": {},
   "outputs": [],
   "source": [
    "nama = \"aco\"\n",
    "nama = 'aci'"
   ]
  },
  {
   "cell_type": "markdown",
   "metadata": {},
   "source": [
    "## <font color = '#5DADE2'> 2. Mengakses Karakter dalam String </font>\n",
    "Untuk mengakses karakter dalam string, kita bisa menggunakan operator indeks [ ] yaitu tanda kurung siku untuk mengakses karakter dalam string.\n",
    "\n",
    "Contoh :"
   ]
  },
  {
   "cell_type": "code",
   "execution_count": 2,
   "metadata": {},
   "outputs": [
    {
     "name": "stdout",
     "output_type": "stream",
     "text": [
      "Hurufnya adalah P\n"
     ]
    }
   ],
   "source": [
    "kelas = 'IPA'\n",
    "\n",
    "huruf = kelas[1]\n",
    "\n",
    "print('Hurufnya adalah', huruf)"
   ]
  },
  {
   "cell_type": "markdown",
   "metadata": {},
   "source": [
    "## <font color = '#5DADE2'> 3. Menentukan Panjang String </font>\n",
    "Untuk menemukan panjang pada String, kita bisa menggunakan fungsi \"len()\".\n",
    "Fungsi \"len()\" mengambil string sebagai argument lalu mengembalikannya sebagai\n",
    "sebuah panjang string.\n",
    "\n",
    "Contoh :"
   ]
  },
  {
   "cell_type": "code",
   "execution_count": 3,
   "metadata": {},
   "outputs": [
    {
     "name": "stdout",
     "output_type": "stream",
     "text": [
      "Panjang huruf adlah 3\n"
     ]
    }
   ],
   "source": [
    "kelas = 'IPS'\n",
    "\n",
    "panjang = len(kelas)\n",
    "\n",
    "print('Panjang huruf adlah', panjang)"
   ]
  },
  {
   "cell_type": "markdown",
   "metadata": {},
   "source": [
    "## <font color = '#5DADE2'> 4. Menemukan Karakter pada String </font>\n",
    "Untuk menemukan karakter pada String, kita bisa menggunakan method\n",
    "\"find()\". Method \"find()\" mengambil string sebagai argument lalu mengembalikan\n",
    "indeks kemunculan pertama karakter.\n",
    "\n",
    "Contoh :"
   ]
  },
  {
   "cell_type": "code",
   "execution_count": 4,
   "metadata": {},
   "outputs": [
    {
     "name": "stdout",
     "output_type": "stream",
     "text": [
      "Posisi karakter ada pada indeks ke 5\n"
     ]
    }
   ],
   "source": [
    "kelas = 'Keep Safe'\n",
    "\n",
    "character = 'S'\n",
    "\n",
    "position = kelas.find(character)\n",
    "\n",
    "print('Posisi karakter ada pada indeks ke', position)"
   ]
  },
  {
   "cell_type": "markdown",
   "metadata": {},
   "source": [
    "## <font color = '#5DADE2'> 5. Menemukan Frekuensi/Banyak Karakter pada String </font>\n",
    "Kita juga dapat melakukan manipulasi string dengan python untuk menemukan\n",
    "frekuensi karakter dalam string. Untuk itu, kita dapat menggunakan metode \"count()\".\n",
    "Metode \"count()\", ketika dipanggil pada string, mengambil karakter sebagai argumen inputnya dan mengembalikan frekuensi karakter.\n",
    "\n",
    "Contoh :"
   ]
  },
  {
   "cell_type": "code",
   "execution_count": 5,
   "metadata": {},
   "outputs": [
    {
     "name": "stdout",
     "output_type": "stream",
     "text": [
      "Posisi karakter ada pada indeks ke 3\n"
     ]
    }
   ],
   "source": [
    "kelas = 'Keep Safe'\n",
    "\n",
    "character = 'e'\n",
    "\n",
    "position = kelas.count(character)\n",
    "\n",
    "print('Posisi karakter ada pada indeks ke', position)"
   ]
  },
  {
   "cell_type": "markdown",
   "metadata": {},
   "source": [
    "## <font color = '#5DADE2'> 6. Menghitung Jumlah Spasi pada String </font>\n",
    "Spasi termasuk karakter . Oleh karena itu, kita dapat menggunakan metode\n",
    "\"count()\" menghitung jumlah spasi dalam string dengan Python. Untuk ini, kita dapat\n",
    "memanggil metode \"count()\" pada string asli dan meneruskan karakter spasi sebagai input\n",
    "ke metode \"count()\""
   ]
  },
  {
   "cell_type": "code",
   "execution_count": 6,
   "metadata": {},
   "outputs": [
    {
     "name": "stdout",
     "output_type": "stream",
     "text": [
      "Posisi karakter ada pada indeks ke 4\n"
     ]
    }
   ],
   "source": [
    "kelas = 'Keep Safe and be Smart'\n",
    "\n",
    "character = ' '\n",
    "\n",
    "position = kelas.count(character)\n",
    "\n",
    "print('Posisi karakter ada pada indeks ke', position)"
   ]
  },
  {
   "cell_type": "markdown",
   "metadata": {},
   "source": [
    "## <font color = '#5DADE2'> 7. String Slicing </font>\n",
    "Untuk melakukan String Slicing dengan Python, kita dapat menggunakan sintaks :\n",
    "\n",
    "string_name<font color = \"#FF69B4\">[</font> <font color = '#7FFF00'>*start_index*</font> : <font color = '#7FFF00'>*end_index*</font> <font color = \"#FF69B4\">]</font> \n",
    "\n",
    "untuk mendapatkan substring string."
   ]
  },
  {
   "cell_type": "code",
   "execution_count": 7,
   "metadata": {},
   "outputs": [
    {
     "name": "stdout",
     "output_type": "stream",
     "text": [
      "H\n",
      "H\n",
      "Hel\n",
      "Hel\n",
      "rld\n",
      "lo World\n",
      "Hello Wo\n"
     ]
    }
   ],
   "source": [
    "word = 'Hello World'\n",
    "\n",
    "print(word[0]) #Mendapatkan Karakter Pertama\n",
    "print(word[0:1]) #Mendapatkan Karakter Pertama\n",
    "print(word[0:3]) #Mendapatkan Tiga Karakter Pertama\n",
    "print(word[:3]) #Mendapatkan Tiga Karakter Pertama\n",
    "print(word[-3:]) #Mendapatkan Tiga Karakter Pertama\n",
    "print(word[3:]) #Mendapatkan Kseseluruhan Karakter kecuali Tiga Karakter Pertama\n",
    "print(word[:-3]) #Mendapatkan Kseseluruhan Karakter kecuali Tiga Karakter Terakhir"
   ]
  },
  {
   "cell_type": "markdown",
   "metadata": {},
   "source": [
    "## <font color = '#5DADE2'> 8. Memeriksa apakah string *dimulai* dengan atau *diakhiri* dengan karakter </font>\n",
    "Untuk memeriksa apakah suatu string dimulai dengan atau diakhiri dengan\n",
    "karakter tertentu , kita dapat menggunakan metode \"startwith()\" atau \"endwith()\" :\n",
    "\n",
    "### a. Metode <font color = '#EC7063'>startswith( )</font>\n",
    "ketika dipanggil pada string, mengambil karakter sebagai argumen masukan. Jika string dimulai dengan karakter tertentu, ia mengembalikan **True**. Jika tidak, ia akan mengembalikan **False**.\n",
    "\n",
    "### b. Metode <font color = '#EC7063'>endswith( )</font>\n",
    "ketika dipanggil pada string, mengambil karakter sebagai argumen masukan. Jika string diakhiri dengan karakter tertentu, ia mengembalikan **True**. Jika tidak, ia akan mengembalikan **False**.\n",
    "\n",
    "Contoh :"
   ]
  },
  {
   "cell_type": "code",
   "execution_count": 8,
   "metadata": {},
   "outputs": [
    {
     "name": "stdout",
     "output_type": "stream",
     "text": [
      "True\n",
      "False\n",
      "True\n",
      "False\n"
     ]
    }
   ],
   "source": [
    "# a. Metode \".stratwith()\"\n",
    "word = 'Hello World'\n",
    "\n",
    "awal = word.startswith('H')\n",
    "print(awal) # Output True\n",
    "awal = word.startswith('l')\n",
    "print(awal) # Output False '''\n",
    "\n",
    "# b. Metode \".endswith()\"\n",
    "word = 'Hello World'\n",
    "\n",
    "akhir = word.endswith('d')\n",
    "print(akhir) # Output True\n",
    "akhir = word.endswith('l')\n",
    "print(akhir) # Output False"
   ]
  },
  {
   "cell_type": "markdown",
   "metadata": {},
   "source": [
    "## <font color = '#5DADE2'> 9. Membuat String berulang </font>\n",
    "Kita dapat mengulang string beberapa kali menggunakan operator perkalian. Saat\n",
    "kita mengalikan string atau karakter tertentu dengan bilangan positif N, maka akan\n",
    "diulang sebanyak N kali.\n",
    "\n",
    "Contoh :"
   ]
  },
  {
   "cell_type": "code",
   "execution_count": 9,
   "metadata": {},
   "outputs": [
    {
     "name": "stdout",
     "output_type": "stream",
     "text": [
      "Hello WorldHello WorldHello WorldHello World\n"
     ]
    }
   ],
   "source": [
    "word = 'Hello World'\n",
    "berulang = word * 4\n",
    "print(berulang)"
   ]
  },
  {
   "cell_type": "markdown",
   "metadata": {},
   "source": [
    "## <font color = '#5DADE2'> 10. Mengganti Substring </font>\n",
    "Kita dapat mengganti substring dengan substring lain menggunakan metode\n",
    "\"replace()\" dengan Python. Metode \"replace()\", ketika dipanggil pada sebuah string,\n",
    "mengambil substring yang akan diganti sebagai argumen masukan pertama dan string\n",
    "pengganti sebagai argumen masukan kedua. Setelah dieksekusi, ia mengganti substring\n",
    "yang ditentukan dengan string pengganti dan mengembalikan string yang dimodifikasi.\n",
    "\n",
    "Contoh :"
   ]
  },
  {
   "cell_type": "code",
   "execution_count": 10,
   "metadata": {},
   "outputs": [
    {
     "name": "stdout",
     "output_type": "stream",
     "text": [
      "Hello Dunia\n"
     ]
    }
   ],
   "source": [
    "word = 'Hello World'\n",
    "baru = word.replace('World', 'Dunia')\n",
    "print(baru) # Output Hello Dunia"
   ]
  },
  {
   "cell_type": "markdown",
   "metadata": {},
   "source": [
    "## <font color = '#5DADE2'> 11. Mengubah String Huruf Besar dan Kecil </font>\n",
    "\n",
    "### a. Metode <font color = '#EC7063'>upper( )</font>\n",
    "ketika dipanggil pada sebuah string, mengubah string menjadi huruf besar dan mengembalikan string yang dimodifikasi.\n",
    "\n",
    "### b. Metode <font color = '#EC7063'>lower( )</font>\n",
    "ketika dipanggil pada sebuah string, mengubah string menjadi huruf kecil dan mengembalikan string yang dimodifikasi.\n",
    "\n",
    "### c. Metode <font color = '#EC7063'>title( )</font>\n",
    "ketika dipanggil pada sebuah string, mengubah string menjadi huruf judul dan mengembalikan string yang dimodifikasi."
   ]
  },
  {
   "cell_type": "code",
   "execution_count": 11,
   "metadata": {},
   "outputs": [
    {
     "name": "stdout",
     "output_type": "stream",
     "text": [
      "HELLO WORLD\n",
      "hello world\n",
      "Hello World\n"
     ]
    }
   ],
   "source": [
    "kecil = 'Hello World'\n",
    "\n",
    "# a. Metode \".upper()\"\n",
    "baru = kecil.upper()\n",
    "print(baru) \n",
    "\n",
    "# b. Metode \".lower()\"\n",
    "baru = kecil.lower()\n",
    "print(baru) \n",
    "\n",
    "# c. Metode \".title()\"\n",
    "baru = kecil.title()\n",
    "print(baru) "
   ]
  },
  {
   "cell_type": "markdown",
   "metadata": {},
   "source": [
    "Kita juga dapat menggunakan huruf besar pada string atau menukar\n",
    "kapitalisasi karakter dalam string menggunakan metode \"capitalize()\" dan\n",
    "\"swapcase()\".\n",
    "\n",
    "### d. Metode <font color = '#EC7063'>capitalize( )</font>\n",
    "ketika dipanggil pada string, akan menggunakan huruf\n",
    "besar pada karakter pertama string dan mengembalikan string yang\n",
    "dimodifikasi.\n",
    "\n",
    "### e. Metode <font color = '#EC7063'>swapcase( )</font>\n",
    "ketika dipanggil pada string, mengubah karakter huruf\n",
    "kecil menjadi huruf besar dan sebaliknya. Setelah eksekusi, ia mengembalikan\n",
    "string yang dimodifikasi"
   ]
  },
  {
   "cell_type": "code",
   "execution_count": 12,
   "metadata": {},
   "outputs": [
    {
     "name": "stdout",
     "output_type": "stream",
     "text": [
      "Hello world\n",
      "hELLO wORLD\n"
     ]
    }
   ],
   "source": [
    "# d. Metode \".capitalize()\"\n",
    "baru = kecil.capitalize()\n",
    "print(baru) \n",
    "\n",
    "# e. Metode \".swapcase()\"\n",
    "baru = kecil.swapcase()\n",
    "print(baru) "
   ]
  },
  {
   "cell_type": "markdown",
   "metadata": {},
   "source": [
    "## <font color = '#5DADE2'> 12. Membalikan String </font>\n",
    "Untuk membalikkan string , kita dapat menggunakan fungsi \"reversed()\" dan metode \"join()\".\n",
    "\n",
    "Fungsi \"reversed()\" mengambil string sebagai argumen masukannya dan mengembalikan daftar berisi karakter string masukan dalam urutan terbalik.\n",
    "\n",
    "### a. Metode <font color = '#EC7063'>join( )</font>\n",
    "ketika dipanggil pada string pemisah, mengambil daftar karakter sebagai argumen masukannya dan menggabungkan karakter-karakter\n",
    "dalam daftar menggunakan pemisah. Setelah eksekusi, ia mengembalikan string yang dihasilkan.\n",
    "\n",
    "### b. Metode <font color = '#EC7063'>reversed( )</font>\n",
    "Untuk membalik string menggunakan fungsi \"reversed()\" dan metode \"join()\",\n",
    "pertama-tama kita akan membuat daftar karakter dalam urutan terbalik\n",
    "menggunakan fungsi \"reversed()\". Kemudian kita akan menggunakan string\n",
    "kosong sebagai pemisah dan memanggil metode join()\" pada string kosong\n",
    "dengan daftar karakter sebagai argumen inputnya."
   ]
  },
  {
   "cell_type": "code",
   "execution_count": 14,
   "metadata": {},
   "outputs": [
    {
     "name": "stdout",
     "output_type": "stream",
     "text": [
      "dlroW olleH\n"
     ]
    }
   ],
   "source": [
    "word = \"Hello World\"\n",
    "print(''.join(reversed(word)))"
   ]
  },
  {
   "cell_type": "markdown",
   "metadata": {},
   "source": [
    "## <font color = '#5DADE2'> 13. Menggabungkan String </font>\n",
    "Untuk menggabungkann String, kita bisa menggunakan tanda '+'\n",
    "\n",
    "Contoh :"
   ]
  },
  {
   "cell_type": "code",
   "execution_count": 13,
   "metadata": {},
   "outputs": [
    {
     "name": "stdout",
     "output_type": "stream",
     "text": [
      "HelloWorld\n"
     ]
    }
   ],
   "source": [
    "word = \"Hello\"\n",
    "word1 = 'World'\n",
    "word2 = word + word1\n",
    "\n",
    "print(word2)"
   ]
  }
 ],
 "metadata": {
  "kernelspec": {
   "display_name": "Python 3",
   "language": "python",
   "name": "python3"
  },
  "language_info": {
   "codemirror_mode": {
    "name": "ipython",
    "version": 3
   },
   "file_extension": ".py",
   "mimetype": "text/x-python",
   "name": "python",
   "nbconvert_exporter": "python",
   "pygments_lexer": "ipython3",
   "version": "3.11.6"
  }
 },
 "nbformat": 4,
 "nbformat_minor": 2
}
