{
 "cells": [
  {
   "cell_type": "markdown",
   "metadata": {},
   "source": [
    "# <font color = '555555'> <center> BAB VI : Data Type Collection"
   ]
  },
  {
   "cell_type": "markdown",
   "metadata": {},
   "source": [
    "*Collection* adalah kumpulan dari beberapa nilai baik itu angka, string, boolean, bahkan variable dalam satu grub. *Collection* terbagi menjadi 4 yaitu: List, Tuples, Set dan Dictionary."
   ]
  },
  {
   "cell_type": "markdown",
   "metadata": {},
   "source": [
    "## <font color = '#5DADE2'> A. List </font>\n",
    "List digunakan untuk menyimpan beberapa item dalam satu variable."
   ]
  },
  {
   "cell_type": "markdown",
   "metadata": {},
   "source": [
    "### <font color = \"00bfc4\"> 1. Membuat List </font>\n",
    "List pada Python dapat dibuat hanya dengan menempatkan urutan di dalam tanda kurung siku ( [ ] ) dan memberi koma (,) di antara data-datanya.\n",
    "\n",
    "Contoh :"
   ]
  },
  {
   "cell_type": "code",
   "execution_count": 1,
   "metadata": {},
   "outputs": [
    {
     "name": "stdout",
     "output_type": "stream",
     "text": [
      "[1, 2, 3]\n",
      "[]\n",
      "[1, 2, 2, 3, 1, 2, 4]\n",
      "[1, 'Sistem', 'Informasi', 2023]\n",
      "[1, 2, 3, 4]\n"
     ]
    }
   ],
   "source": [
    "listExample = [1, 2, 3]\n",
    "print(listExample)      # output -> [1, 2, 3]\n",
    "\n",
    "blankList = []\n",
    "print(blankList)        # output -> []\n",
    "\n",
    "duplicateList = [1, 2, 2, 3, 1, 2, 4]\n",
    "print(duplicateList)    # output -> [1, 2, 2, 3, 1, 2, 4]\n",
    "\n",
    "mixedList = [1, 'Sistem', 'Informasi', 2023]\n",
    "print(mixedList)        # output -> [1, 'Sistem', 'Informasi]\n",
    "\n",
    "# Membuat list menggunakan 'range()'\n",
    "rangeList = list(range(1, 5))\n",
    "print(rangeList)        # output -> [1, 2, 3, 4]"
   ]
  },
  {
   "cell_type": "markdown",
   "metadata": {},
   "source": [
    "### <font color = \"00bfc4\"> 2. Mengakses Data List </font>\n",
    "Nilai dalam list dapat diakses dengan memanggil indeks list, indeks pada list dimulai dari 0 (nol) untuk elemen pertama dan Size List - 1 untuk nilai paling akhir.\n",
    "\n",
    "Contoh :"
   ]
  },
  {
   "cell_type": "code",
   "execution_count": 3,
   "metadata": {},
   "outputs": [
    {
     "name": "stdout",
     "output_type": "stream",
     "text": [
      "1\n",
      "3\n",
      "[1, 10, 3]\n"
     ]
    }
   ],
   "source": [
    "# ~ Mengambil elemen pertama\n",
    "print(listExample[0])   # output -> 1\n",
    "\n",
    "# ~ Mengambil elemen terakhir\n",
    "print(listExample[len(listExample) - 1])    # output -> 3\n",
    "\n",
    "# ~ Menginisialisasi nilai list pada indeks yang ingin diubah\n",
    "listExample[1] = 10\n",
    "print(listExample)      # output -> [1, 10, 3]"
   ]
  },
  {
   "cell_type": "markdown",
   "metadata": {},
   "source": [
    "### <font color = \"00bfc4\"> 3. Slicing pada List </font>\n",
    "Kita bisa mendapatkan substring dan sublist menggunakan sebuah\n",
    "slice. Operasi Slice dilakukan pada Listdengan menggunakan titik dua (:).\n",
    "\n",
    "[index_awal : index_akhir]\n",
    "\n",
    "Contoh :"
   ]
  },
  {
   "cell_type": "code",
   "execution_count": 2,
   "metadata": {},
   "outputs": [
    {
     "name": "stdout",
     "output_type": "stream",
     "text": [
      "[0, 1, 2, 3, 4]\n",
      "[0, 1, 2, 3, 4, 5]\n",
      "[1, 2, 3, 4, 5, 6]\n",
      "[6, 5, 4, 3, 2, 1, 0]\n"
     ]
    }
   ],
   "source": [
    "ListExample = [0, 1, 2, 3, 4, 5, 6]\n",
    "\n",
    "# Mengambil elemen yg dimulai dari awal hingga sebelum indeks tertentu -> \"[:index]\"\n",
    "print(ListExample[:5])\n",
    "\n",
    "# Mengambil elemen yg dimulai dari awal hingga sebelum indeks tertentu dari akhir -> \"[:-index]\"\n",
    "print(ListExample[:-1])\n",
    "\n",
    "# Mengambil elemen dimulai dari indeks tertentu hingga akhir -> \"[index:]\"\n",
    "print(ListExample[1:])\n",
    "\n",
    "# Mwngambil seluruh elemen dengan ururtan terbalik -> \"[::-1]\"\n",
    "print(ListExample[::-1])"
   ]
  },
  {
   "cell_type": "markdown",
   "metadata": {},
   "source": [
    "### <font color = \"00bfc4\"> 4. List Multi-Dimensi </font>\n",
    "List multi-dimensi adalah list yang memuat list di dalamnya hal ini digunakan sebagai representasi matriks di dunia matematika.\n",
    "\n",
    "Contoh :"
   ]
  },
  {
   "cell_type": "code",
   "execution_count": 7,
   "metadata": {},
   "outputs": [
    {
     "name": "stdout",
     "output_type": "stream",
     "text": [
      "2\n",
      "4\n"
     ]
    }
   ],
   "source": [
    "multiDimensionalList = [[1, 2], [2, 3]]\n",
    "print(multiDimensionalList[0][1])\n",
    "\n",
    "multiDimensionalList = [[1, 2], [2, 3], [10], [4, 5]]\n",
    "print(multiDimensionalList[2][1]) # Erorr\n",
    "print(multiDimensionalList[3][0])"
   ]
  },
  {
   "cell_type": "markdown",
   "metadata": {},
   "source": [
    "### <font color = \"00bfc4\"> 5. Built-In Function pada List </font>\n",
    "List memiliki banyak built-in function beberapa yang penting diantaranya;\n",
    "\n",
    "#### ~ <font color = '#EC7063'> Append </font>  -> .append()\n",
    "Penggunaan metode append() memungkinkan penambahan satu elemen per operasi, sedangkan jika ingin menambahkan beberapa elemen, kita dapat menggunakan loop bersama metode append(). \n",
    "\n",
    "Contoh :"
   ]
  },
  {
   "cell_type": "code",
   "execution_count": 18,
   "metadata": {},
   "outputs": [
    {
     "name": "stdout",
     "output_type": "stream",
     "text": [
      "Before : [1, 2, 3, 4]\n",
      "After : [1, 2, 3, 4, 5]\n"
     ]
    }
   ],
   "source": [
    "Listexample = [1, 2, 3, 4]\n",
    "\n",
    "print(f'Before : {Listexample}')\n",
    "Listexample.append(5)\n",
    "print(f'After : {Listexample}')"
   ]
  },
  {
   "cell_type": "markdown",
   "metadata": {},
   "source": [
    "#### ~ <font color = '#EC7063'> Insert </font>  -> .insert(position, value)\n",
    "Fungsi dari metode append() adalah jika kita ingin menambahkan elemen pada lokasi yang spesifik, metode insert() dapat digunakan.\n",
    "\n",
    "Contoh :"
   ]
  },
  {
   "cell_type": "code",
   "execution_count": 19,
   "metadata": {},
   "outputs": [
    {
     "name": "stdout",
     "output_type": "stream",
     "text": [
      "Before : [1, 2, 3, 4, 5]\n",
      "After : [1, 10, 2, 3, 4, 5]\n"
     ]
    }
   ],
   "source": [
    "print(f'Before : {Listexample}')\n",
    "Listexample.insert(1, 10)\n",
    "print(f'After : {Listexample}')"
   ]
  },
  {
   "cell_type": "markdown",
   "metadata": {},
   "source": [
    "#### ~ <font color = '#EC7063'> Extend </font>  -> .extend()\n",
    "Metode ini berguna saat ingin menambahkan beberapa elemen sekaligus pada bagian akhir dari list.\n",
    "\n",
    "Contoh :"
   ]
  },
  {
   "cell_type": "code",
   "execution_count": 20,
   "metadata": {},
   "outputs": [
    {
     "name": "stdout",
     "output_type": "stream",
     "text": [
      "Before : [1, 10, 2, 3, 4, 5]\n",
      "After : [1, 10, 2, 3, 4, 5, 6, 7, 8]\n"
     ]
    }
   ],
   "source": [
    "print(f'Before : {Listexample}')\n",
    "Listexample.extend([6, 7, 8])\n",
    "print(f'After : {Listexample}') "
   ]
  },
  {
   "cell_type": "markdown",
   "metadata": {},
   "source": [
    "#### ~ <font color = '#EC7063'> Remove </font>  -> .remove()\n",
    "Elemen dalam List bisa dihapus menggunakan built-in function remove() namun akan muncul pesan kesalahan jika elemen tersebut tidak ada dalam daftar.\n",
    "\n",
    "Contoh :"
   ]
  },
  {
   "cell_type": "code",
   "execution_count": 21,
   "metadata": {},
   "outputs": [
    {
     "name": "stdout",
     "output_type": "stream",
     "text": [
      "Before : [1, 10, 2, 3, 4, 5, 6, 7, 8]\n",
      "After : [1, 2, 3, 4, 5, 6, 7, 8]\n"
     ]
    }
   ],
   "source": [
    "print(f'Before : {Listexample}')\n",
    "Listexample.remove(10)\n",
    "print(f'After : {Listexample}') "
   ]
  },
  {
   "cell_type": "markdown",
   "metadata": {},
   "source": [
    "#### ~ <font color = '#EC7063'> Pop </font>   -> .pop()\n",
    "Fungsi pop() berguna untuk mengambil elemen dari daftar dan menyimpannya ke variable baru. Secara default, fungsi ini hanya menghapus elemen yang terletak di akhir daftar. \n",
    "\n",
    "Jika ingin menghapus elemen dari posisi khusus dalam List, maka kita dapat memberikan indeks elemen sebagai argumen untuk metode pop().\n",
    "\n",
    "Contoh :"
   ]
  },
  {
   "cell_type": "code",
   "execution_count": 22,
   "metadata": {},
   "outputs": [
    {
     "name": "stdout",
     "output_type": "stream",
     "text": [
      "Before: [1, 2, 3, 4, 5, 6, 7, 8]\n",
      "After: [1, 2, 3, 4, 5, 6, 7]\n",
      "Pop Value: 8\n"
     ]
    }
   ],
   "source": [
    "print(f'Before: {Listexample}')\n",
    "popList = Listexample.pop(7)\n",
    "print(f'After: {Listexample}')\n",
    "print(f'Pop Value: {popList}') "
   ]
  },
  {
   "cell_type": "markdown",
   "metadata": {},
   "source": [
    "#### ~ <font color = '#EC7063'> Reverse </font> -> .reverse()\n",
    "Metode ini digunakan untuk membalik urutan elemen dalam list secara permanen. Ini berarti elemen-elemen dalam list akan diubah posisinya dari urutan awal menjadi urutan akhir, dan sebaliknya.\n",
    "\n",
    "Contoh :"
   ]
  },
  {
   "cell_type": "code",
   "execution_count": 23,
   "metadata": {},
   "outputs": [
    {
     "name": "stdout",
     "output_type": "stream",
     "text": [
      "Before: [1, 2, 3, 4, 5, 6, 7]\n",
      "After: [7, 6, 5, 4, 3, 2, 1]\n"
     ]
    }
   ],
   "source": [
    "print(f'Before: {Listexample}')\n",
    "Listexample.reverse()\n",
    "print(f'After: {Listexample}') "
   ]
  },
  {
   "cell_type": "markdown",
   "metadata": {},
   "source": [
    "### <font color = \"00bfc4\"> 6. List Comprehension </font>\n",
    "Syntax : \n",
    "\n",
    "newList = [expression(element) for element in oldList if condition]\n",
    "\n",
    "Contoh :"
   ]
  },
  {
   "cell_type": "code",
   "execution_count": 1,
   "metadata": {},
   "outputs": [
    {
     "name": "stdout",
     "output_type": "stream",
     "text": [
      "[4, 16, 36, 64, 100]\n"
     ]
    }
   ],
   "source": [
    "evenSquare = [x**2 for x in range(1,11) if x % 2 == 0]\n",
    "print(evenSquare)"
   ]
  },
  {
   "cell_type": "markdown",
   "metadata": {},
   "source": [
    "## <font color = '#5DADE2'> B. Tuples (Immutable) </font>\n",
    "Tuple adalah salah satu collection pada objek Python seperti list. Urutan nilai yang disimpan dalam tuple bisa bertipe apa saja, dan diindeks dengan bilangan bulat. \n",
    "\n",
    "Nilai-nilai yang ada pada tuple tidak dapat diubah atau bersifat immuatble.\n"
   ]
  },
  {
   "cell_type": "markdown",
   "metadata": {},
   "source": [
    "### <font color = \"00bfc4\"> 1. Membuat Tuple </font>\n",
    "Penulisan tuple dimulai dan ditutup dengan tanda kurung. Nilai tuple\n",
    "dipisahkan secara sintaksis dengan koma (,). Meskipun tidak diperlukan, lebih umum untuk mendefinisikan tuple dengan menutup urutan nilai dalam tanda kurung. \n",
    "\n",
    "Contoh :"
   ]
  },
  {
   "cell_type": "code",
   "execution_count": 24,
   "metadata": {},
   "outputs": [
    {
     "name": "stdout",
     "output_type": "stream",
     "text": [
      "('Python', True, 1)\n"
     ]
    }
   ],
   "source": [
    "tupleExample = ('Python', True, 1)\n",
    "print(tupleExample)     # output -> ('Python', True, 1)"
   ]
  },
  {
   "cell_type": "markdown",
   "metadata": {},
   "source": [
    "### <font color = \"00bfc4\"> 2. Mengakses Nilai pada Tuple </font>\n",
    "Nilai pada tuple tidak dapat diubah (immutable), dan biasanya, berisi rangkaian elemen heterogen yang diakses melalui unpacking atau indexing (atau bahkan dengan atribut dalam kasus tuple bernama). \n",
    "\n",
    "Contoh :"
   ]
  },
  {
   "cell_type": "code",
   "execution_count": 25,
   "metadata": {},
   "outputs": [
    {
     "name": "stdout",
     "output_type": "stream",
     "text": [
      "With Indexing:\n",
      "Python\n",
      "\n",
      "With Unpacking:\n",
      "Python\n",
      "Java\n",
      "Kotlin\n"
     ]
    }
   ],
   "source": [
    "programmingLang = (\"Python\", \"Java\", \"Kotlin\")\n",
    "\n",
    "# with indexing\n",
    "print(\"With Indexing:\")\n",
    "print(programmingLang[0])\n",
    "\n",
    "# with unpacking\n",
    "a, b, c = programmingLang\n",
    "print(\"\\nWith Unpacking:\")\n",
    "print(a)\n",
    "print(b)\n",
    "print(c)"
   ]
  },
  {
   "cell_type": "markdown",
   "metadata": {},
   "source": [
    "### <font color = \"00bfc4\"> 3. Manipulasi Tuple </font>\n",
    "Tuple kumpulan beberapa item dan tidak dapat diubah lagi, tetapi kita\n",
    "bisa melakukan manipulasi tuple tersebut, dengan cara melakukan konversi tipe data tuple ke list.\n",
    "\n",
    "Contoh :"
   ]
  },
  {
   "cell_type": "code",
   "execution_count": 26,
   "metadata": {},
   "outputs": [
    {
     "name": "stdout",
     "output_type": "stream",
     "text": [
      "Before: ('Python', True, 1)\n",
      "After: ('Python', False, 1)\n"
     ]
    }
   ],
   "source": [
    "tupleExample = (\"Python\", True, 1)\n",
    "\n",
    "print(\"Before:\", tupleExample)\n",
    "tupleToList = list(tupleExample)\n",
    "tupleToList[1] = False\n",
    "tupleExample = tuple(tupleToList)\n",
    "print(\"After:\", tupleExample)"
   ]
  },
  {
   "cell_type": "markdown",
   "metadata": {},
   "source": [
    "### <font color = \"00bfc4\"> 4. Menghapus Tuple </font>\n",
    "Tuple tidak dapat diubah dan oleh karena itu tidak dapat dilakukan penghapusan sebagian dari nilainya. Seluruh tuple harus dihapus dengan menggunakan metode del()."
   ]
  },
  {
   "cell_type": "markdown",
   "metadata": {},
   "source": [
    "## <font color = '#5DADE2'> C. Sets (Immutable) </font>\n",
    "Set adalah kumpulan data yang tidak berurutan, tidak dapat diubah\n",
    "(immutable), dan tidak terindeks dan tidak ada anggota yang terduplikat. \n",
    "\n",
    "Sama halnya dengan tuple, set juga bisa memiliki item yang berbeda tipe datanya serta juga dapat diketahui panjangnya dengan menggunakan fungsi len()"
   ]
  },
  {
   "cell_type": "markdown",
   "metadata": {},
   "source": [
    "### <font color = \"00bfc4\"> 1. Membuat Set </font>\n",
    "Di Python, kita membuat set dengan menempatkan semua elemen di\n",
    "dalam kurung kurawal ({...}), dipisahkan dengan koma. \n",
    "Suatu set dapat memiliki sejumlah item dengan tipe data yang berbeda (integer, float, tuple, string, dan lain-lain).\n",
    "\n",
    "Contoh :"
   ]
  },
  {
   "cell_type": "code",
   "execution_count": 27,
   "metadata": {},
   "outputs": [
    {
     "name": "stdout",
     "output_type": "stream",
     "text": [
      "{1, 'Python', 2, 'Java'}\n",
      "{1, 2, 3, 4}\n"
     ]
    }
   ],
   "source": [
    "# set tidak mempunyai urutan tertentu jika argumentnya campuran (susunannya bisa saja teracak)\n",
    "setExample = {\"Python\", 1, 2, \"Java\"}\n",
    "print(setExample)\n",
    "\n",
    "# set tidak menerima item duplikat \n",
    "duplicateSet = {1, 3, 2, 3, 2, 3, 4}\n",
    "print(duplicateSet)"
   ]
  },
  {
   "cell_type": "markdown",
   "metadata": {},
   "source": [
    "### <font color = \"00bfc4\"> 2. Memanipulasi Set </font>\n",
    "Sama halnya dengan tuple, set juga kumpulan beberapa item dan tidak\n",
    "dapat diubah lagi. Tetapi kita bisa melakukan manipulasi set tersebut, dengan cara melakukan konversi tipe data set ke list.\n",
    "\n",
    "Contoh :"
   ]
  },
  {
   "cell_type": "code",
   "execution_count": 28,
   "metadata": {},
   "outputs": [
    {
     "name": "stdout",
     "output_type": "stream",
     "text": [
      "Before: {1, 'Python', 2, 'Java'}\n",
      "After: {'Python', 2, 'Java', 'C++'}\n"
     ]
    }
   ],
   "source": [
    "print(\"Before:\", setExample)\n",
    "setToList = list(setExample)\n",
    "setToList[0] = \"C++\"\n",
    "setExample = set(setToList)\n",
    "print(\"After:\", setExample)\n"
   ]
  },
  {
   "cell_type": "markdown",
   "metadata": {},
   "source": [
    "### <font color = \"00bfc4\"> 3. Mengambil Data dari Set </font>\n",
    "Untuk mengambil data dari set kita bisa memanggil fungsi pop(), jika kita tidak mau menghapus datanya ketika ingin mengambil datanya maka, kita harus meng-iterasinya atau kita bisa mengubahnya ke dalam bentuk list.\n",
    "\n",
    "Contoh :"
   ]
  },
  {
   "cell_type": "code",
   "execution_count": 4,
   "metadata": {},
   "outputs": [
    {
     "name": "stdout",
     "output_type": "stream",
     "text": [
      "2\n",
      "\n",
      "1\n",
      "2\n",
      "3\n",
      "4\n",
      "5\n"
     ]
    }
   ],
   "source": [
    "numberSet = {1, 2, 3, 4, 5}\n",
    "setToList = list(numberSet)\n",
    "print(setToList[1])\n",
    "\n",
    "print()\n",
    "numberSet = {1, 2, 3, 4, 5}\n",
    "for i in numberSet:     # utk mengambil semua data dlm set\n",
    "    print(i)"
   ]
  },
  {
   "cell_type": "markdown",
   "metadata": {},
   "source": [
    "### <font color = \"00bfc4\"> 4. Built-In Function di Set </font>"
   ]
  },
  {
   "cell_type": "code",
   "execution_count": 15,
   "metadata": {},
   "outputs": [
    {
     "name": "stdout",
     "output_type": "stream",
     "text": [
      "Add :\n",
      "{'Python', 1, 2, 'Kotlin', 'Java'}\n",
      "\n",
      "Pop :\n",
      "{1, 2, 'Kotlin', 'Java'}\n",
      "\n",
      "Remove :\n",
      "{2, 'Kotlin', 'Java'}\n",
      "\n",
      "Discard :\n",
      "{2, 'Java'}\n",
      "{2, 'Java'}\n"
     ]
    }
   ],
   "source": [
    "setExample = {'Java', 'Python', 1, 2}\n",
    "\n",
    "# ~ Add         -> \".add()\"\n",
    "print('Add :')\n",
    "setExample.add('Kotlin')\n",
    "print(setExample)\n",
    "\n",
    "# ~ Pop         -> \".pop()\"  (hanya mengambil dan menyimpan nilai int pertama/str pertama pada data set)\n",
    "print('\\nPop :')\n",
    "setExample.pop()\n",
    "print(setExample)\n",
    "\n",
    "# ~ Remove      -> \".remove()\"\n",
    "print('\\nRemove :')\n",
    "setExample.remove(1)\n",
    "print(setExample)\n",
    "\n",
    "# ~ Discard     -> \".discard()\"  (utk menghapus nilai yg sama)\n",
    "print('\\nDiscard :')\n",
    "setExample.discard(\"Kotlin\")\n",
    "print(setExample)\n",
    "    # jika tidak terdapat nilai yg sama maka program tdk melakukan apapun\n",
    "setExample.discard(\"Tes\")\n",
    "print(setExample)"
   ]
  },
  {
   "cell_type": "markdown",
   "metadata": {},
   "source": [
    "### <font color = \"00bfc4\"> 5. Frozen Set </font>"
   ]
  },
  {
   "cell_type": "markdown",
   "metadata": {},
   "source": [
    "### <font color = \"00bfc4\"> 6. Set Operations </font>\n",
    "Set Python menyediakan built-in methods untuk melakukan operasi himpunan matematika seperti union (gabungan), intersection (irisan), difference (selisih), dan symmetric difference (selisih simetris)."
   ]
  },
  {
   "cell_type": "markdown",
   "metadata": {},
   "source": [
    "#### a. <font color = '#EC7063'> Union (⋃) </font>    -> \".union()\" or '|'\n",
    "Union adalah gabungan dua set (himpunan) A dan B memuat semua anggota himpunan A dan B. Dua set dapat digabungkan menggunakan fungsi .union() atau operator '|'.\n",
    "\n",
    "Contoh :"
   ]
  },
  {
   "cell_type": "code",
   "execution_count": 18,
   "metadata": {},
   "outputs": [
    {
     "name": "stdout",
     "output_type": "stream",
     "text": [
      "{1, 2, 3, 4}\n",
      "{1, 2, 3, 4}\n"
     ]
    }
   ],
   "source": [
    "a = {1, 2, 3}\n",
    "b = {4, 3, 2, 1}\n",
    "    # menggunakan | \n",
    "print(a | b) # {1, 2, 3}\n",
    "    # menggunakan .union()\n",
    "print(a.union(b)) # {1, 2, 3}"
   ]
  },
  {
   "cell_type": "markdown",
   "metadata": {},
   "source": [
    "#### b. <font color = '#EC7063'> Intersection (⋂) </font>   -> \".intersection()\" or '&'\n",
    "Intersection adalah perpotongan/irisan dua set (himpunan) A dan B memuat unsur-unsur persekutuan antara himpunan A dan B.\n",
    "\n",
    "Dua set dapat didapatkan hasil irisannya menggunakan .intersection() atau operator &.\n",
    "\n",
    "Contoh :"
   ]
  },
  {
   "cell_type": "code",
   "execution_count": 19,
   "metadata": {},
   "outputs": [
    {
     "name": "stdout",
     "output_type": "stream",
     "text": [
      "{1, 3}\n",
      "{1, 3}\n"
     ]
    }
   ],
   "source": [
    "a = {1, 2, 3}\n",
    "b = {3, 5, 1}\n",
    "    # menggunakan &\n",
    "print(a & b) # {1, 3}\n",
    "    # menggunakan .intersection()\n",
    "print(a.intersection(b)) # {1, 3}"
   ]
  },
  {
   "cell_type": "markdown",
   "metadata": {},
   "source": [
    "#### c. <font color = '#EC7063'> Difference (-) </font>  -> \".difference()\" or '-'\n",
    "Difference adalah Selisih antara dua set (himpunan) A dan B mencakup elemen himpunan A yang tidak terdapat pada himpunan B.\n",
    "\n",
    "Kita menggunakan .difference() atau operator - untuk mendapatkan selisih antara dua himpunan.\n",
    "\n",
    "Contoh :"
   ]
  },
  {
   "cell_type": "code",
   "execution_count": 23,
   "metadata": {},
   "outputs": [
    {
     "name": "stdout",
     "output_type": "stream",
     "text": [
      "{2, 5}\n",
      "{2, 5}\n",
      "\n",
      "{3, 4}\n",
      "{3, 4}\n"
     ]
    }
   ],
   "source": [
    "a = {1, 2, 5}\n",
    "b = {3, 4, 1}\n",
    "    # menggunakan -\n",
    "print(a - b) # {2, 5}\n",
    "    # menggunakan .difference()\n",
    "print(a.difference(b)) # {2, 5}\n",
    "print()\n",
    "    # menggunakan -\n",
    "print(b - a) # {2, 5}\n",
    "    # menggunakan .difference()\n",
    "print(b.difference(a)) # {2, 5}\n"
   ]
  },
  {
   "cell_type": "markdown",
   "metadata": {},
   "source": [
    "#### d. <font color = '#EC7063'> Symmetric Difference (^) </font>    -> \".symmetric_difference()\" or '^'\n",
    "Symmetric difference adalah selisih simetris antara dua set (himpunan) A dan B mencakup semua anggota A dan B tanpa unsur-unsur persekutuannya. \n",
    "\n",
    "Kita menggunakan .symmetric_difference() atau operator ^ untuk melakukan selisih simetris antara dua himpunan.\n",
    "\n",
    "Contoh :"
   ]
  },
  {
   "cell_type": "code",
   "execution_count": 24,
   "metadata": {},
   "outputs": [
    {
     "name": "stdout",
     "output_type": "stream",
     "text": [
      "{2, 3, 4, 5}\n",
      "{2, 3, 4, 5}\n"
     ]
    }
   ],
   "source": [
    "a = {1, 2, 5}\n",
    "b = {3, 4, 1}\n",
    "    # menggunakan ^\n",
    "print(a ^ b) # {2, 3, 4, 5}\n",
    "    # menggunakan .symmetric_difference()\n",
    "print(a.symmetric_difference(b)) # {2, 3, 4, 5}"
   ]
  },
  {
   "cell_type": "markdown",
   "metadata": {},
   "source": [
    "## <font color = '#5DADE2'> D. Dictionary </font>\n",
    "Dictionary adalah kumpulan nilai, yang digunakan untuk menyimpan nilai data key dan value, tidak seperti list yang hanya menyimpan satu nilai sebagai elemen."
   ]
  },
  {
   "cell_type": "markdown",
   "metadata": {},
   "source": [
    "### <font color = \"00bfc4\"> 1. Membuat Dictionary </font>\n",
    "Dalam Python, dictionary bisa dibuat dengan menempatkan rangkaian\n",
    "elemen di dalam kurung kurawal ({...}), dipisahkan dengan koma ':'. \n",
    "\n",
    "Dictionarymenampung pasangan nilai, yaitu key dan value yang dipisahkan oleh titikdua ':' (key:value).\n",
    "\n",
    "Contoh :"
   ]
  },
  {
   "cell_type": "code",
   "execution_count": 25,
   "metadata": {},
   "outputs": [
    {
     "name": "stdout",
     "output_type": "stream",
     "text": [
      "{'name': 'Riofuad', 'age': 21, 'hobby': 'Playing Genshin'}\n"
     ]
    }
   ],
   "source": [
    "dictExample = {\n",
    "    \"name\": \"Riofuad\",\n",
    "    \"age\": 21,\n",
    "    \"hobby\": \"Playing Genshin\"\n",
    "}\n",
    "print(dictExample)"
   ]
  },
  {
   "cell_type": "markdown",
   "metadata": {},
   "source": [
    "### <font color = \"00bfc4\"> 2. Nested Dictionary </font>\n",
    "\n",
    "Contoh :"
   ]
  },
  {
   "cell_type": "code",
   "execution_count": 26,
   "metadata": {},
   "outputs": [
    {
     "name": "stdout",
     "output_type": "stream",
     "text": [
      "{'Fakultas': 'MIPA', 'Program Studi': {1: 'Sistem Informasi', 2: 'Matematika', 3: 'Aktuaria'}}\n"
     ]
    }
   ],
   "source": [
    "nestedDict = {\n",
    "    \"Fakultas\": \"MIPA\",\n",
    "    \"Program Studi\": {\n",
    "        1: \"Sistem Informasi\",\n",
    "        2: \"Matematika\",\n",
    "        3: \"Aktuaria\"\n",
    "    }\n",
    "}\n",
    "print(nestedDict)"
   ]
  },
  {
   "cell_type": "markdown",
   "metadata": {},
   "source": [
    "### <font color = \"00bfc4\"> 3. Melakukan Operasi pada Dictionary </font>\n",
    "\n",
    "#### a. <font color = '#EC7063'> Mengakses Elemen </font>    -> .get()\n",
    "Untuk mengakses elemen pada dictionary, harus merujuk pada nama key-nya. \n",
    "Key dapat digunakan di dalam tanda kurung siku. Atau kita bisa menggunakan built-in function get() untuk mengakses elemen pada dictionary\n",
    "\n",
    "Contoh :"
   ]
  },
  {
   "cell_type": "code",
   "execution_count": 27,
   "metadata": {},
   "outputs": [
    {
     "name": "stdout",
     "output_type": "stream",
     "text": [
      "Riofuad\n",
      "Riofuad\n",
      "Sistem Informasi\n",
      "Sistem Informasi\n"
     ]
    }
   ],
   "source": [
    "print(dictExample[\"name\"])\n",
    "    # menggunakan .get()\n",
    "print(dictExample.get(\"name\"))\n",
    "\n",
    "# untuk mengakses elemen yg ada pada nested dictionary, harus merujuk pada nama key yang diluar hingga key yang paling dalam\n",
    "print(nestedDict[\"Program Studi\"][1])\n",
    "    # menggunakan .get()\n",
    "print(nestedDict.get(\"Program Studi\").get(1))"
   ]
  },
  {
   "cell_type": "markdown",
   "metadata": {},
   "source": [
    "#### b. <font color = '#EC7063'> Mengupdate/Menambah Elemen </font>      -> \".update()\"\n",
    "Untuk mengupdate elemen pada dictionary kita hanya perlu mengintansinya kembali atau menggunakan built-in function update()\n",
    "\n",
    "Contoh :"
   ]
  },
  {
   "cell_type": "code",
   "execution_count": 31,
   "metadata": {},
   "outputs": [
    {
     "name": "stdout",
     "output_type": "stream",
     "text": [
      "After: Playing Minecraft\n",
      "After: Playing GTA Online\n",
      "\n",
      "{'name': 'Riofuad', 'age': 21, 'hobby': 'Playing GTA Online', 'graduationYear': 2023}\n",
      "{'name': 'Riofuad', 'age': 21, 'hobby': 'Playing GTA Online', 'graduationYear': 2026}\n"
     ]
    }
   ],
   "source": [
    "# untuk mengupdate elemen pada dictionary kita hanya perlu mengintansinya kembali \n",
    "dictExample[\"hobby\"] = \"Playing Minecraft\"\n",
    "print(\"After:\", dictExample[\"hobby\"])\n",
    "    # menggunakan .update()\n",
    "dictExample.update({\"hobby\": \"Playing GTA Online\"})\n",
    "print(\"After:\", dictExample[\"hobby\"])\n",
    "print()\n",
    "# begitu pula untuk menambah elemen pada dictionary\n",
    "dictExample[\"graduationYear\"] = 2023\n",
    "print(dictExample)\n",
    "    # menggunakan .update()\n",
    "dictExample.update({\"graduationYear\": 2026})\n",
    "print(dictExample)"
   ]
  },
  {
   "cell_type": "markdown",
   "metadata": {},
   "source": [
    "#### c. <font color = '#EC7063'> Menghapus Elemen </font>\n",
    "Untuk menghapus elemen pada key yang spesifik, dapat menggunakan built-in\n",
    "function *pop()*.\n",
    "\n",
    "Kemudian jika ingin menghapus elemen yang terakhir dimasukkan, dapat menggunakan built-in function *popitems()*,\n",
    "\n",
    "Jika ingin menghapus seluruh elemen pada dictionary, dapat menggunakan built-in function *clear()*.\n",
    "\n",
    "Contoh :"
   ]
  },
  {
   "cell_type": "code",
   "execution_count": 32,
   "metadata": {},
   "outputs": [
    {
     "name": "stdout",
     "output_type": "stream",
     "text": [
      "{'name': 'Riofuad', 'age': 21, 'hobby': 'Playing GTA Online'}\n",
      "{'name': 'Riofuad', 'age': 21}\n",
      "{}\n"
     ]
    }
   ],
   "source": [
    "# ~ Pop         -> \".pop()\"     (utk menghapus elemen pada key yg spesifik)\n",
    "dictExample.pop(\"graduationYear\")\n",
    "print(dictExample)\n",
    "\n",
    "# ~ Popitems    -> \".popitem()\"    (utk menghapus elemen yang terdapat pada akhir daftar)\n",
    "dictExample.popitem()\n",
    "print(dictExample)\n",
    "\n",
    "# ~ Clear       -> \".clear()\"    (utk menghapus seluruh elemen)\n",
    "dictExample.clear()\n",
    "print(dictExample)"
   ]
  }
 ],
 "metadata": {
  "kernelspec": {
   "display_name": "Python 3",
   "language": "python",
   "name": "python3"
  },
  "language_info": {
   "codemirror_mode": {
    "name": "ipython",
    "version": 3
   },
   "file_extension": ".py",
   "mimetype": "text/x-python",
   "name": "python",
   "nbconvert_exporter": "python",
   "pygments_lexer": "ipython3",
   "version": "3.11.6"
  }
 },
 "nbformat": 4,
 "nbformat_minor": 2
}
