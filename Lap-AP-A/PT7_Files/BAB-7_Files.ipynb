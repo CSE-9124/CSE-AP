{
 "cells": [
  {
   "cell_type": "markdown",
   "metadata": {},
   "source": [
    "# <font color = '555555'> <center> BAB VII : Files"
   ]
  },
  {
   "cell_type": "markdown",
   "metadata": {},
   "source": [
    "*File* adalah kumpulan informasi atau data yang disimpan di dalam komputer. Informasi dalam *file* bisa berupa teks, gambar, suara, atau jenis data\n",
    "lainnya.\n",
    "\n",
    "Dalam pemrograman, *file handling* merujuk pada kemampuan untuk membaca dan menulis data ke *file* tersebut, serta melakukan operasi lain seperti mengubah nama *file*, memindahkan *file*, dan banyak lagi.\n",
    "\n",
    "Dalam Python, *file handling* memungkinkan pengguna untuk dapat mengolah dengan *file* melalui\n",
    "kode program, seperti membaca teks dari berkas atau menyimpan data ke dalam *file*. \n",
    "Saat kita ingin membaca atau menulis sebuah *file*, maka kita perlu membukanya terlebih dahulu. Setelah selesai, kita perlu menutupnya agar sumber daya yang terhubung ke *file* tersebut dibebaskan.\n",
    "\n",
    "Pada bahasa pemrograman Python, operasi pada file terjadi sesuai urutan berikut :\n",
    "1. Membuka (open) file.\n",
    "2. Membaca (reading) data dari file.\n",
    "3. Menulis (writing) data ke dalam file.\n",
    "4. Mengubah (modifying) data dalam file.\n",
    "5. Menghapus (deleting) file."
   ]
  },
  {
   "cell_type": "markdown",
   "metadata": {},
   "source": [
    "Sebelum melakukan operasi pada file seperti membaca atau menulis, pertama-tama, kita harus membuka file tersebut. Untuk ini, kita harus menggunakan fungsi bawaan Python yaitu \"*open()*\", tetapi pada saat membukanya, fungsi \"*open()*\" menerima dua parameter; _namafile_, dan _mode_.\n",
    "\n",
    "Ada beberapa metode (mode) yang berbeda untuk membuka sebuah file :\n",
    "1. '**r**'   -> <font color = '#EC7063'> “Read” </font> : Membaca berkas yang sudah ada\n",
    "2. '**r+**'  -> Membuka berkas dalam mode baca dan tulis\n",
    "3. '**a**'   -> <font color = '#EC7063'> “Append” </font> : Menambahkan data ke dalam berkas. Jika berkas sudah ada, data akan ditambahkan di akhir berkas tanpa menghapus isi sebelumnya. Jika berkas belum ada, maka Python akan membuat berkas baru\n",
    "4. '**a+**'  -> Membuka berkas dalam mode tambah dan baca\n",
    "5. '**w**'   -> <font color = '#EC7063'> “Write” </font> : Menulis ke dalam berkas. Jika berkas sudah ada, mode ini akan menghapus isinya dan menuliskan data baru. Jika berkas belum ada, maka Python akan membuat berkas baru\n",
    "6. '**w+**'  -> Membuka berkas dalam mode tulis dan baca\n",
    "\n",
    "7. '**x**'   -> <font color = '#EC7063'> “Exclusive creation” </font> : Membuat berkas baru, tetapi akan mengembalikan error jika berkas sudah ada\n",
    "8. '**b**'   -> <font color = '#EC7063'> “Binary” </font> : Membuka berkas dalam mode biner. Biasanya digunakan bersamaan dengan mode lain, seperti _'rb'_ untuk membaca berkas biner atau _'wb'_ untuk menulis berkas biner\n",
    "9. '**t**'   -> <font color = '#EC7063'> “Text” </font> : Membuka berkas dalam mode teks (default). Meskipun mode teks bukan mode yang didefinisikan secara eksplisit, mode ini diaktifkan secara implisit ketika membuka berkas dalam mode selain biner"
   ]
  },
  {
   "cell_type": "markdown",
   "metadata": {},
   "source": [
    "## <font color = '#5DADE2'> A. Membuka File </font>\n",
    "Untuk mengilustrasikan bagaimana kita membuka file dalam Python, anggaplah kita memiliki sebuah berkas yang bernama __test.txt__\n",
    "\n",
    "Sekarang, mari kita coba membuka data dari berkas ini menggunakan fungsi *\"open()\"*."
   ]
  },
  {
   "cell_type": "code",
   "execution_count": 3,
   "metadata": {},
   "outputs": [],
   "source": [
    "file1 = open('test.txt')\n",
    "\n",
    "# Secara default, file dibuka dalam mode baca (tidak dapat dimodifikasi). Kode di atas sama dengan\n",
    "file1 = open('test.txt', 'r')"
   ]
  },
  {
   "cell_type": "markdown",
   "metadata": {},
   "source": [
    "## <font color = '#5DADE2'> B. Membaca File </font>\n",
    "Setelah kita membuka sebuah file, kita menggunakan metode \"*read()*\" untuk membaca isinya. Sebagai contoh :"
   ]
  },
  {
   "cell_type": "code",
   "execution_count": 12,
   "metadata": {},
   "outputs": [
    {
     "name": "stdout",
     "output_type": "stream",
     "text": [
      "sisfo\n",
      "fmipa\n",
      "unhas\n"
     ]
    }
   ],
   "source": [
    "# membuka sebuah berkas\n",
    "file1 = open(\"test.txt\", \"r\")\n",
    "\n",
    "# membaca berkas\n",
    "read_content = file1.read()\n",
    "print(read_content)"
   ]
  },
  {
   "cell_type": "markdown",
   "metadata": {},
   "source": [
    "Terdapat berbagai cara utuk memebaca *file*, berikut beberapa contohnya :"
   ]
  },
  {
   "cell_type": "code",
   "execution_count": 18,
   "metadata": {},
   "outputs": [
    {
     "name": "stdout",
     "output_type": "stream",
     "text": [
      "Cara Pertama :\n",
      "sisfo\n",
      "\n",
      "fmipa\n",
      "\n",
      "unhas\n",
      "\n",
      "Cara Kedua :\n",
      "sisfo\n",
      "fmipa\n",
      "unhas\n",
      "\n",
      "Cara Ketiga :\n",
      "sisfo\n",
      "fmipa\n",
      "unhas\n"
     ]
    }
   ],
   "source": [
    "# cara pertama\n",
    "print('Cara Pertama :')\n",
    "file = open('test.txt', 'r')\n",
    "for each in file:\n",
    "    print(each)\n",
    "\n",
    "# cara kedua\n",
    "print('\\nCara Kedua :')\n",
    "file = open(\"test.txt\", \"r\")\n",
    "print (file.read())\n",
    "\n",
    "# cara ketiga\n",
    "print('\\nCara Ketiga :')\n",
    "with open(\"test.txt\") as file:\n",
    "    data = file.read()\n",
    "\n",
    "print(data)"
   ]
  },
  {
   "cell_type": "code",
   "execution_count": 20,
   "metadata": {},
   "outputs": [
    {
     "name": "stdout",
     "output_type": "stream",
     "text": [
      "sisfo\n"
     ]
    }
   ],
   "source": [
    "# Kita juga bisa hanya membaca sebagian isi dari file seperti contoh kode di bawah ini:\n",
    "file = open(\"test.txt\", \"r\")\n",
    "print (file.read(5))\n",
    "\n",
    "# Kode di atas, akan membaca lima karakter pertama dari data yang disimpan dan mengembalikannya sebagai sebuah string."
   ]
  },
  {
   "cell_type": "markdown",
   "metadata": {},
   "source": [
    "## <font color = '#5DADE2'> C. Menutup File </font>\n",
    "Perlu di ingat bahwa ketika kita selesai melakukan operasi pada file, kita perlu menutup file tersebut dengan benar. Menutup file akan menutup resources yang terbuka. \n",
    "\n",
    "Hal ini dilakukan menggunakan metode '*close()*' dalam bahasa Python. Sebagai contoh :"
   ]
  },
  {
   "cell_type": "code",
   "execution_count": 21,
   "metadata": {},
   "outputs": [
    {
     "name": "stdout",
     "output_type": "stream",
     "text": [
      "sisfo\n",
      "fmipa\n",
      "unhas\n"
     ]
    }
   ],
   "source": [
    "# membuka sebuah berkas\n",
    "file1 = open(\"test.txt\", \"r\")\n",
    "\n",
    "# membaca berkas\n",
    "read_content = file1.read()\n",
    "print(read_content)\n",
    "\n",
    "# menutup berkas\n",
    "file1.close()"
   ]
  },
  {
   "cell_type": "markdown",
   "metadata": {},
   "source": [
    "Namun, terdapat cara lain untuk melakukan operasi pada file tanpa harus secara eksplisit memanggil fungsi *'close()'* saat selesai melakukan operasi,\n",
    "\n",
    "caranya adalah menggunakan _with_ seperti di bawah ini :"
   ]
  },
  {
   "cell_type": "code",
   "execution_count": 22,
   "metadata": {},
   "outputs": [
    {
     "name": "stdout",
     "output_type": "stream",
     "text": [
      "sisfo\n",
      "fmipa\n",
      "unhas\n"
     ]
    }
   ],
   "source": [
    "with open(\"test.txt\", \"r\") as file:\n",
    "    data = file.read()\n",
    "    print(data)"
   ]
  },
  {
   "cell_type": "markdown",
   "metadata": {},
   "source": [
    "Kita juga dapat memisahkan baris saat membaca file di Python. Fungsi '*split()*' memisahkan variabel saat ada spasi yang ditemukan. Kita juga dapat\n",
    "memisahkan menggunakan karakter apa pun sesuai keinginan seperti contoh di bawah ini :"
   ]
  },
  {
   "cell_type": "code",
   "execution_count": 10,
   "metadata": {},
   "outputs": [
    {
     "name": "stdout",
     "output_type": "stream",
     "text": [
      "['sisfo']\n",
      "['fmipa']\n",
      "['unhas']\n"
     ]
    }
   ],
   "source": [
    "with open(\"test.txt\", \"r\") as file:\n",
    "    data = file.readlines()\n",
    "    \n",
    "    for line in data:\n",
    "        word = line.split()\n",
    "        print (word)"
   ]
  },
  {
   "cell_type": "markdown",
   "metadata": {},
   "source": [
    "## <font color = '#5DADE2'> D. Menulis File </font>\n",
    "### 1. <font color = '#EC7063'> *Write* </font>\n",
    "Ada dua hal yang perlu diingat saat menulis ke dalam sebuah file dengan mode “**w**”:\n",
    "\n",
    "a. Jika kita mencoba membuka sebuah file yang tidak ada, sebuah file baru akan dibuat.\n",
    "\n",
    "b. Jika berkas sudah ada, isinya akan dihapus, dan konten baru akan ditambahkan ke dalam file tersebut.\n",
    "\n",
    "Untuk menulis ke dalam sebuah berkas di Python, kita perlu membukanya dalam mode tulis dengan melewati \"**w**\" di dalam fungsi '*open()*' sebagai argumen kedua."
   ]
  },
  {
   "cell_type": "code",
   "execution_count": 9,
   "metadata": {},
   "outputs": [],
   "source": [
    "file = open('test1.txt','w')\n",
    "\n",
    "file.write(\"This is the write command.\")\n",
    "file.write('\\nIt allows us to write in a particular file')\n",
    "\n",
    "file.close()"
   ]
  },
  {
   "cell_type": "markdown",
   "metadata": {},
   "source": [
    "Kita juga dapat menggunakan pernyataan yang ditulis bersama dengan fungsi '*with()*' seperti contoh berikut :"
   ]
  },
  {
   "cell_type": "code",
   "execution_count": 5,
   "metadata": {},
   "outputs": [],
   "source": [
    "with open(\"test1.txt\", \"w\") as f:\n",
    "    f.write(\"Hello World!!!\")"
   ]
  },
  {
   "cell_type": "markdown",
   "metadata": {},
   "source": [
    "### 2. <font color = '#EC7063'> *Append* </font>\n",
    "Mode \"*append*\" (\"**a**\") memungkinkan kita untuk menambahkan data baru ke akhir file tanpa menghapus atau mengganti konten yang sudah ada sebelumnya. \n",
    "\n",
    "Dengan menggunakan mode \"*append*\", kita bisa memperpanjang file dengan menambahkan informasi baru tanpa merusak data yang sudah ada."
   ]
  },
  {
   "cell_type": "code",
   "execution_count": 3,
   "metadata": {},
   "outputs": [],
   "source": [
    "file = open('test1.txt','a')\n",
    "\n",
    "file.write(\"\\nHello Programers\")\n",
    "file.write('\\nPrograming is Fun')\n",
    "\n",
    "file.close()\n",
    "\n",
    "# Menggunakan with\n",
    "\n",
    "with open(\"test1.txt\", \"a\") as f:\n",
    "    f.write(\"\\nMake it Easier\")"
   ]
  },
  {
   "cell_type": "markdown",
   "metadata": {},
   "source": [
    "### 3. <font color = '#EC7063'> *Exclusive Creation* </font>\n",
    "Bedanya mode \"*exclusive creation*\" (\"**x**\") dari mode *append* dan *write*, mode ini hanya memungkinkan kita untuk membuat file baru. Jika file yang kita buat sudah ada, maka akan mengembalikan error."
   ]
  },
  {
   "cell_type": "code",
   "execution_count": null,
   "metadata": {},
   "outputs": [],
   "source": []
  },
  {
   "cell_type": "markdown",
   "metadata": {},
   "source": [
    "## <font color = '#5DADE2'> E. Modul </font> <font color = '#9B59B6'> OS </font>\n",
    "Modul <font color = '#9B59B6 '> os </font> dalam Python adalah modul bawaan yang digunakan untuk berinteraksi dengan sistem operasi.\n",
    "\n",
    "Modul ini memungkinkan kita untuk melakukan berbagai hal terkait sistem operasi, seperti mengakses direktori, mengelola *file*, menjalankan perintah shell, dan banyak lagi."
   ]
  },
  {
   "cell_type": "markdown",
   "metadata": {},
   "source": [
    "### </font> <font color = '#9B59B6 '> OS </font> Function\n",
    "Berikut adalah beberapa fungsi yang sering digunakan pada modul </font> <font color = '#9B59B6 '> os</font>. Masih banyak fungsi lainnya yang dapat di eksplorasi.\n",
    "\n",
    "1. \"</font> <font color = '#9B59B6 '>os.getcwd()</font>\"    --> Mengembalikan direktori kerja saat ini.\n",
    "\n",
    "2. \"</font> <font color = '#9B59B6 '>os.chdir(path)</font>\" --> Mengubah direktori kerja saat ini menjadi path yang ditentukan.\n",
    "\n",
    "3. \"</font> <font color = '#9B59B6 '>os.listdir(path)</font>\"   --> Mengembalikan daftar file dan direktori dalam path yang diberikan.\n",
    "\n",
    "4. \"</font> <font color = '#9B59B6 '>os.path.join(path1, path2)</font>\" --> Menggabungkan dua path menjadi satu path lengkap.\n",
    "\n",
    "5. \"</font> <font color = '#9B59B6 '>os.path.exists(path)</font>\"  --> Memeriksa apakah path yang diberikan benar-benar ada.\n",
    "\n",
    "6. \"</font> <font color = '#9B59B6 '>os.mkdir(path)</font>\" --> Membuat direktori baru pada path yang diberikan.\n",
    "\n",
    "7. \"</font> <font color = '#9B59B6 '>os.rmdir(path)</font>\" --> Menghapus direkrori pada path yang diberikan.\n",
    "\n",
    "8. \"</font> <font color = '#9B59B6 '>os.remove(path)</font>\"    --> Menghapus file pada path yang diberikan.\n",
    "\n",
    "9. \"</font> <font color = '#9B59B6 '>os.rename(file_lama, file_baru)</font>\"    --> Mengganti nama file pada path yang diberikan."
   ]
  },
  {
   "cell_type": "markdown",
   "metadata": {},
   "source": [
    "Dalam contoh di bawah ini, kita akan menggunakan berbagai konsep yang ada sebelumnya. Selain itu, kita juga akan melihat bagaimana cara menghapus sebuah berkas menggunakan fungsi '*remove()*' dari modul  <font color = '#9B59B6 '> os </font> dalam Python. "
   ]
  },
  {
   "cell_type": "code",
   "execution_count": 12,
   "metadata": {},
   "outputs": [
    {
     "name": "stdout",
     "output_type": "stream",
     "text": [
      "File example.txt created successfully.\n",
      "Hello, world!\n",
      "\n",
      "Text appended to file example.txt successfully.\n",
      "Hello, world!\n",
      "This is some additional text.\n",
      "\n",
      "File example.txt renamed to new_example.txtsuccessfully.\n",
      "Hello, world!\n",
      "This is some additional text.\n",
      "\n",
      "File new_example.txt deleted successfully.\n"
     ]
    }
   ],
   "source": [
    "import os\n",
    "\n",
    "# Membuat sebuah File\n",
    "def create_file(filename):\n",
    "    try:\n",
    "        with open(filename, 'w') as f:\n",
    "            f.write('Hello, world!\\n')\n",
    "        print(\"File \" + filename + \" created successfully.\")\n",
    "\n",
    "    except IOError:\n",
    "        print(\"Error: could not create file \" + filename)\n",
    "\n",
    "# Membaca File\n",
    "def read_file(filename):\n",
    "    try:\n",
    "        with open(filename, 'r') as f:\n",
    "            contents = f.read()\n",
    "        print(contents)\n",
    "\n",
    "    except IOError:\n",
    "        print(\"Error: could not read file \" + filename)\n",
    "\n",
    "# Menambah data baru ke File\n",
    "def append_file(filename, text):\n",
    "    try:\n",
    "        with open(filename, 'a') as f:\n",
    "            f.write(text)\n",
    "        print(\"Text appended to file \" + filename + \" successfully.\")\n",
    "    \n",
    "    except IOError:\n",
    "        print(\"Error: could not append to file \" + filename)\n",
    "\n",
    "# Mengubah nama File \n",
    "def rename_file(filename, new_filename):\n",
    "    try:\n",
    "        os.rename(filename, new_filename)\n",
    "        print(\"File \" + filename + \" renamed to \" + new_filename + \"successfully.\")\n",
    "    \n",
    "    except IOError:\n",
    "        print(\"Error: could not rename file \" + filename)\n",
    "\n",
    "# Menghapus File\n",
    "def delete_file(filename):\n",
    "    try:\n",
    "        os.remove(filename)\n",
    "        print(\"File \" + filename + \" deleted successfully.\")\n",
    "    \n",
    "    except IOError:\n",
    "        print(\"Error: could not delete file \" + filename)\n",
    "\n",
    "\n",
    "if __name__ == '__main__':\n",
    "    filename = \"example.txt\"\n",
    "    new_filename = \"new_example.txt\"\n",
    "    create_file(filename)\n",
    "    read_file(filename)\n",
    "    append_file(filename, \"This is some additional text.\\n\")\n",
    "    read_file(filename)\n",
    "    rename_file(filename, new_filename)\n",
    "    read_file(new_filename)\n",
    "    delete_file(new_filename)"
   ]
  },
  {
   "cell_type": "code",
   "execution_count": 9,
   "metadata": {},
   "outputs": [],
   "source": [
    "file = open(r'C:\\Users\\USER\\OneDrive\\Dokumen\\Kuliah\\PT7\\test2.txt', 'w')\n",
    "\n",
    "file.write(\"Ngapain Buka File ini?\")\n",
    "file.write('\\nDisini nggak ada apa apa')\n",
    "\n",
    "file.close()"
   ]
  }
 ],
 "metadata": {
  "kernelspec": {
   "display_name": "Python 3",
   "language": "python",
   "name": "python3"
  },
  "language_info": {
   "codemirror_mode": {
    "name": "ipython",
    "version": 3
   },
   "file_extension": ".py",
   "mimetype": "text/x-python",
   "name": "python",
   "nbconvert_exporter": "python",
   "pygments_lexer": "ipython3",
   "version": "3.11.6"
  }
 },
 "nbformat": 4,
 "nbformat_minor": 2
}
