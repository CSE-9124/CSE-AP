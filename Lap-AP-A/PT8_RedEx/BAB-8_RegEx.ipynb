{
 "cells": [
  {
   "cell_type": "markdown",
   "metadata": {},
   "source": [
    "# <font color = '555555'> <center> BAB VIII : RegEx"
   ]
  },
  {
   "cell_type": "markdown",
   "metadata": {},
   "source": [
    "RegEx atau *Regular Expression* adalah susunan karakter yang mendefinisikan suatu pattern yang ingin dicari. Umumnya penggunaan regex dapat kita temukan saat melakukan pengecekan inputan apakah termasuk email yang valid atau tidak. \n",
    "\n",
    "Di dalam bahasa pemrograman Python, kita dapat menggunakan <font color = 'Red'>module</font> <font color = '#DAA520'>re</font> untuk bekerja menggunakan regex.\n",
    "\n",
    "Contoh penggunaan regex dengan menggunakan <font color = 'Red'>module</font> <font color = '#DAA520'>re</font> dapat dilihat pada contoh berikut :"
   ]
  },
  {
   "cell_type": "code",
   "execution_count": 2,
   "metadata": {},
   "outputs": [
    {
     "name": "stdout",
     "output_type": "stream",
     "text": [
      "<re.Match object; span=(0, 5), match='abyss'>\n",
      "Search successful.\n"
     ]
    }
   ],
   "source": [
    "import re\n",
    "\n",
    "pattern = '^a...s$'\n",
    "test_string = 'abyss'\n",
    "result = re.match(pattern, test_string)\n",
    "\n",
    "print(result)\n",
    "\n",
    "if result:\n",
    "    print(\"Search successful.\")\n",
    "else:\n",
    "    print(\"Search unsuccessful.\")"
   ]
  },
  {
   "cell_type": "markdown",
   "metadata": {},
   "source": [
    "Fungsi *re.match()* untuk mengetes apakah variabel *test_string* dimulai dengan huruf \"a\" dan diakhiri dengan huruf \"s\" serta terdiri dari 5 huruf. \n",
    "\n",
    "Fungsi tersebut akan mengembalikan sebuah object match jika patternnya sesuai. Jika tidak maka akan mengembalikan nilai *None*."
   ]
  },
  {
   "cell_type": "markdown",
   "metadata": {},
   "source": [
    "## <font color = '#5DADE2'> A. MetaCharacters </font>\n",
    "MetaCharacters merupakan karakter yang diinterpretasikan secara khusus oleh RegEx engine.\n",
    "\n",
    "Berikut adalah list dari metacharacters :\n",
    "\n",
    "### 1) [] --> <font color = '#EC7063'> Square Brackets </font>\n",
    "Simbol [] menentukan sebuah set karakter yang ingin dicocokkan."
   ]
  },
  {
   "cell_type": "code",
   "execution_count": 3,
   "metadata": {},
   "outputs": [
    {
     "name": "stdout",
     "output_type": "stream",
     "text": [
      "['a', 'b', 'c']\n",
      "3 Cocok\n"
     ]
    }
   ],
   "source": [
    "import re\n",
    "\n",
    "Ekspresi = '[abc]'\n",
    "string = 'abc'\n",
    "cocok = re.findall(Ekspresi, string)\n",
    "\n",
    "print(cocok)\n",
    "banyak = len(cocok)\n",
    "\n",
    "# Di sini, [abc] akan mencocokkan jika sebuah string berisi salah satu dari a, b, atau c\n",
    "if cocok:\n",
    "    print(banyak, 'Cocok')\n",
    "else:\n",
    "    print('Tidak ada cocok')"
   ]
  },
  {
   "cell_type": "markdown",
   "metadata": {},
   "source": [
    "Kita juga dapat menentukan range dari character dengan menggunakan **-**.\n",
    "Sebagai contoh:\n",
    "\n",
    "● [<font color = '#9B59B6 '>a-e</font>] sama dengan [abcde]\n",
    "\n",
    "● [<font color = '#9B59B6 '>1-4</font>] sama dengan [1234]\n",
    "\n",
    "● [<font color = '#9B59B6 '>0-3</font>] sama dengan [0123]\n",
    "\n",
    "Dan kita juga dapat menggunakan symbol **^**. Contoh:\n",
    "\n",
    "● [<font color = '#9B59B6 '>^abc</font>] yang berarti semua karakter selain a atau b atau c\n",
    "\n",
    "● [<font color = '#9B59B6 '>^0-9</font>] yang berarti semua karakter non-digit"
   ]
  },
  {
   "cell_type": "code",
   "execution_count": 4,
   "metadata": {},
   "outputs": [
    {
     "name": "stdout",
     "output_type": "stream",
     "text": [
      "['0', '1', '2', '3', '1', '0', '4', '0']\n",
      "8 Cocok\n",
      "['C', '9', '1', '2', '4']\n",
      "5 Cocok\n"
     ]
    }
   ],
   "source": [
    "import re\n",
    "\n",
    "# Menggunakan (-)\n",
    "Ekspresi = '[0-5]'\n",
    "string = 'H071231040'\n",
    "cocok = re.findall(Ekspresi, string)\n",
    "\n",
    "print(cocok)\n",
    "banyak = len(cocok)\n",
    "\n",
    "if cocok:\n",
    "    print(banyak, 'Cocok')\n",
    "else:\n",
    "    print('Tidak ada cocok')\n",
    "\n",
    "\n",
    "# Menggunakan (^)\n",
    "Ekspresi = '[^a-z]'\n",
    "string = 'Cholyn9124'\n",
    "cocok = re.findall(Ekspresi, string)\n",
    "\n",
    "print(cocok)\n",
    "banyak = len(cocok)\n",
    "\n",
    "if cocok:\n",
    "    print(banyak, 'Cocok')\n",
    "else:\n",
    "    print('Tidak ada cocok')"
   ]
  },
  {
   "cell_type": "markdown",
   "metadata": {},
   "source": [
    "### 2) **.** --> <font color = '#EC7063'> Period </font>\n",
    "Simbol **.** akan mencocokkan semua karakter kecuali baris baru."
   ]
  },
  {
   "cell_type": "code",
   "execution_count": 5,
   "metadata": {},
   "outputs": [
    {
     "name": "stdout",
     "output_type": "stream",
     "text": [
      "['Hel', 'lo ', 'Wor']\n",
      "3 Cocok\n"
     ]
    }
   ],
   "source": [
    "Ekspresi = '...'\n",
    "string = 'Hello World'\n",
    "cocok = re.findall(Ekspresi, string)\n",
    "\n",
    "print(cocok)\n",
    "banyak = len(cocok)\n",
    "\n",
    "if cocok:\n",
    "    print(banyak, 'Cocok')\n",
    "else:\n",
    "    print('Tidak ada cocok')"
   ]
  },
  {
   "cell_type": "markdown",
   "metadata": {},
   "source": [
    "### 3) **^** --> <font color = '#EC7063'> Caret </font>\n",
    "Simbol **^** digunakan untuk mengecek jika sebuah string *dimulai* oleh karakter tertentu."
   ]
  },
  {
   "cell_type": "code",
   "execution_count": 6,
   "metadata": {},
   "outputs": [
    {
     "name": "stdout",
     "output_type": "stream",
     "text": [
      "['a']\n",
      "1 Cocok\n"
     ]
    }
   ],
   "source": [
    "Ekspresi = '^a'\n",
    "string = 'abc'\n",
    "cocok = re.findall(Ekspresi, string)\n",
    "\n",
    "print(cocok)\n",
    "banyak = len(cocok)\n",
    "\n",
    "if cocok:\n",
    "    print(banyak, 'Cocok')\n",
    "else:\n",
    "    print('Tidak ada cocok')"
   ]
  },
  {
   "cell_type": "markdown",
   "metadata": {},
   "source": [
    "### 4) **$** --> <font color = '#EC7063'> Dollar </font>\n",
    "Simbol **$** digunakan untuk mengecek jika sebuah string *diakhiri* oleh karakter tertentu."
   ]
  },
  {
   "cell_type": "code",
   "execution_count": 7,
   "metadata": {},
   "outputs": [
    {
     "name": "stdout",
     "output_type": "stream",
     "text": [
      "['a']\n",
      "1 Cocok\n"
     ]
    }
   ],
   "source": [
    "Ekspresi = 'a$'\n",
    "string = 'formula'\n",
    "cocok = re.findall(Ekspresi, string)\n",
    "\n",
    "print(cocok)\n",
    "banyak = len(cocok)\n",
    "\n",
    "if cocok:\n",
    "    print(banyak, 'Cocok')\n",
    "else:\n",
    "    print('Tidak ada cocok')"
   ]
  },
  {
   "cell_type": "markdown",
   "metadata": {},
   "source": [
    "### 5) * --> <font color = '#EC7063'> Star </font>\n",
    "Simbol * akan mencocokkan nol atau lebih kemunculan pola yang tersisa."
   ]
  },
  {
   "cell_type": "code",
   "execution_count": 8,
   "metadata": {},
   "outputs": [
    {
     "name": "stdout",
     "output_type": "stream",
     "text": [
      "['Wo']\n",
      "1 Cocok\n"
     ]
    }
   ],
   "source": [
    "Ekspresi = r'.*[a-z]'\n",
    "string = 'WoMAN'\n",
    "cocok = re.findall(Ekspresi, string)\n",
    "\n",
    "print(cocok)\n",
    "banyak = len(cocok)\n",
    "\n",
    "if cocok:\n",
    "    print(banyak, 'Cocok')\n",
    "else:\n",
    "    print('Tidak ada cocok')"
   ]
  },
  {
   "cell_type": "markdown",
   "metadata": {},
   "source": [
    "### 6) + --> <font color = '#EC7063'> Plus </font>\n",
    "Simbol + akan mencocokkan satu atau lebih kemunculan pola yang tersisa."
   ]
  },
  {
   "cell_type": "code",
   "execution_count": 31,
   "metadata": {},
   "outputs": [
    {
     "name": "stdout",
     "output_type": "stream",
     "text": [
      "['gmail.']\n",
      "1 Cocok\n"
     ]
    }
   ],
   "source": [
    "Ekspresi = r'[a-z]+\\.'\n",
    "string = 'gmail.'\n",
    "cocok = re.findall(Ekspresi, string)\n",
    "\n",
    "print(cocok)\n",
    "banyak = len(cocok)\n",
    "\n",
    "if cocok:\n",
    "    print(banyak, 'Cocok')\n",
    "else:\n",
    "    print('Tidak ada cocok')"
   ]
  },
  {
   "cell_type": "markdown",
   "metadata": {},
   "source": [
    "### 7) ? --> <font color = '#EC7063'> Question Mark </font>\n",
    "Simbol ? akan mencocokkan nol dan satu, tetapi tidak mencocokan jika lebih kemunculan string sebelum pola pada regex."
   ]
  },
  {
   "cell_type": "code",
   "execution_count": 10,
   "metadata": {},
   "outputs": [
    {
     "name": "stdout",
     "output_type": "stream",
     "text": [
      "['185']\n",
      "1 Cocok\n"
     ]
    }
   ],
   "source": [
    "Ekspresi = r'1[0-9]?[0-9]'\n",
    "string = '185'\n",
    "cocok = re.findall(Ekspresi, string)\n",
    "\n",
    "print(cocok)\n",
    "banyak = len(cocok)\n",
    "\n",
    "if cocok:\n",
    "    print(banyak, 'Cocok')\n",
    "else:\n",
    "    print('Tidak ada cocok')"
   ]
  },
  {
   "cell_type": "markdown",
   "metadata": {},
   "source": [
    "### 8) {m, n} --> <font color = '#EC7063'> Braces </font>\n",
    "RegEx ini akan mencari repetisi *minimal* m dan *maksimal* n dari pola yang tersisa."
   ]
  },
  {
   "cell_type": "code",
   "execution_count": 11,
   "metadata": {},
   "outputs": [
    {
     "name": "stdout",
     "output_type": "stream",
     "text": [
      "['aa', 'aaa']\n",
      "2 Cocok\n",
      "['12', '34', '56', '73']\n",
      "4 Cocok\n"
     ]
    }
   ],
   "source": [
    "# Contoh 1:\n",
    "Ekspresi = 'a{2,}'\n",
    "string = 'aabc daaat'\n",
    "cocok = re.findall(Ekspresi, string)\n",
    "\n",
    "print(cocok)\n",
    "banyak = len(cocok)\n",
    "\n",
    "if cocok:\n",
    "    print(banyak, 'Cocok')\n",
    "else:\n",
    "    print('Tidak ada cocok')\n",
    "\n",
    "# Contoh 2:\n",
    "Ekspresi = '[0-9]{2}'\n",
    "string = '12 and 345673'\n",
    "cocok = re.findall(Ekspresi, string)\n",
    "\n",
    "print(cocok)\n",
    "banyak = len(cocok)\n",
    "\n",
    "if cocok:\n",
    "    print(banyak, 'Cocok')\n",
    "else:\n",
    "    print('Tidak ada cocok')"
   ]
  },
  {
   "cell_type": "markdown",
   "metadata": {},
   "source": [
    "### 9) | --> <font color = '#EC7063'> Alternation </font>\n",
    "Simbol | sama seperti operator or."
   ]
  },
  {
   "cell_type": "code",
   "execution_count": 12,
   "metadata": {},
   "outputs": [
    {
     "name": "stdout",
     "output_type": "stream",
     "text": [
      "['a', 'b', 'a']\n",
      "3 Cocok\n"
     ]
    }
   ],
   "source": [
    "Ekspresi = 'a|b'\n",
    "string = 'acdbea'\n",
    "cocok = re.findall(Ekspresi, string)\n",
    "\n",
    "print(cocok)\n",
    "banyak = len(cocok)\n",
    "\n",
    "if cocok:\n",
    "    print(banyak, 'Cocok')\n",
    "else:\n",
    "    print('Tidak ada cocok')"
   ]
  },
  {
   "cell_type": "markdown",
   "metadata": {},
   "source": [
    "### 10) () --> <font color = '#EC7063'> Group </font>\n",
    "Simbol () digunakan untuk mengelompokkan pola regex. \n",
    "\n",
    "Contoh, (a|b|c)xy akan mencocokkan semua string yang memiliki karakter a atau b atau c lalu\n",
    "diikuti oleh xy."
   ]
  },
  {
   "cell_type": "code",
   "execution_count": 13,
   "metadata": {},
   "outputs": [
    {
     "name": "stdout",
     "output_type": "stream",
     "text": [
      "['Hello', 'Hai']\n",
      "2 Cocok\n"
     ]
    }
   ],
   "source": [
    "Ekspresi = '(Hello|Hai|Hola)World'\n",
    "string = 'HelloWorld HaiWorld HolaPlanet'\n",
    "cocok = re.findall(Ekspresi, string)\n",
    "\n",
    "print(cocok)\n",
    "banyak = len(cocok)\n",
    "\n",
    "if cocok:\n",
    "    print(banyak, 'Cocok')\n",
    "else:\n",
    "    print('Tidak ada cocok')"
   ]
  },
  {
   "cell_type": "markdown",
   "metadata": {},
   "source": [
    "### 11) \\ --> <font color = '#EC7063'> Backslash </font>\n",
    "Simbol \\ digunakan untuk memastikan bahwa sebuah karakter tidak diperlakukan secara khusus. \n",
    "\n",
    "Sebagai contoh, regex \\$a akan mencocokkan jika sebuah string memiliki karakter '$' diikuti oleh 'a'. Di sini, '__$__' tidak diinterpretasikan oleh engine RegEx."
   ]
  },
  {
   "cell_type": "code",
   "execution_count": 14,
   "metadata": {},
   "outputs": [
    {
     "name": "stdout",
     "output_type": "stream",
     "text": [
      "['$1']\n",
      "1 Cocok\n"
     ]
    }
   ],
   "source": [
    "Ekspresi = r'\\$1'\n",
    "string = 'Give me $1'\n",
    "cocok = re.findall(Ekspresi, string)\n",
    "\n",
    "print(cocok)\n",
    "banyak = len(cocok)\n",
    "\n",
    "if cocok:\n",
    "    print(banyak, 'Cocok')\n",
    "else:\n",
    "    print('Tidak ada cocok')"
   ]
  },
  {
   "cell_type": "markdown",
   "metadata": {},
   "source": [
    "## <font color = '#5DADE2'> B. Special Sequences </font>\n",
    "*Special sequences* digunakan untuk mencari sebuah string berdasarkan lokasi di mana string tersebut berada. *Special sequences* membuat pola yang umum digunakan lebih mudah untuk ditulis."
   ]
  },
  {
   "cell_type": "markdown",
   "metadata": {},
   "source": [
    "1. '**\\A**' -> Mengembalikan kecocokan jika karakter yang ditentukan berada \n",
    "di awal string.\n",
    "\n",
    "2. '**\\b**' -> Mengembalikan kecocokan dimana karakter yang ditentukan berada di awal atau di akhir kata (\"r\" pada awalnya memastikan bahwa string diperlakukan sebagai \"string mentah\")\n",
    "\n",
    "3. '**\\B**' -> Mengembalikan kecocokan dimana karakter yang ditentukan\n",
    "ada, tetapi BUKAN di awal (atau di akhir) kata (\"r\" pada awalnya memastikan\n",
    "bahwa string diperlakukan sebagai \"string mentah\")\n",
    "\n",
    "4. '**\\d**' -> Mengembalikan kecocokan dimana string berisi angka (angka dari 0-9)\n",
    "\n",
    "5. '**\\D**' -> Mengembalikan kecocokan dimana string TIDAK mengandung angka\n",
    "\n",
    "6. '**\\s**' -> Mengembalikan kecocokan dimana string berisi karakter spasi\n",
    "\n",
    "7. '**\\S**' -> Mengembalikan kecocokan dimana string TIDAK mengandung karakter spasi\n",
    "\n",
    "8. '**\\w**' -> Mengembalikan kecocokan dimana string berisi karakter kata\n",
    "apa pun (karakter dari a hingga Z, angka dari 0-9, dan garis bawah _ karakter)\n",
    "\n",
    "9. '**\\W**' -> Mengembalikan kecocokan dimana string TIDAK mengandung garis bawah dan kata atau angka apa pun\n",
    "\n",
    "10. '**\\Z**'    -> Mengembalikan kecocokan jika karakter yang ditentukan berada di akhir string"
   ]
  },
  {
   "cell_type": "code",
   "execution_count": 15,
   "metadata": {},
   "outputs": [
    {
     "name": "stdout",
     "output_type": "stream",
     "text": [
      "Contoh \\A :\n",
      "['the']\n",
      "cocok\n",
      "\n",
      "Contoh \\b :\n",
      "['foo']\n",
      "cocok\n",
      "\n",
      "Contoh \\B :\n",
      "['foo', 'foo']\n",
      "cocok\n",
      "\n",
      "Contoh \\d :\n",
      "['1', '2', '3']\n",
      "cocok\n",
      "\n",
      "Contoh \\D :\n",
      "['a', 'b', 'c']\n",
      "cocok\n"
     ]
    }
   ],
   "source": [
    "## Contoh \\A : (Mencocokkan karakter pada awal string)\n",
    "print('Contoh \\A :')\n",
    "txt = 'the sun'\n",
    "cocok = re.findall('\\Athe', txt)\n",
    "\n",
    "print(cocok)\n",
    "print('cocok' if cocok else 'Tidak cocok')\n",
    "\n",
    "## Contoh \\b : (Mencocokkan karakter pada awal/akhir kata)\n",
    "print('\\n'r'Contoh \\b :')\n",
    "txt = '''A football\n",
    "        The foo'''\n",
    "cocok = re.findall(r'foo\\b', txt)\n",
    "\n",
    "print(cocok)\n",
    "print('cocok' if cocok else 'Tidak cocok')\n",
    "\n",
    "## Contoh \\B : (Mencocokkan karakter yg ada pada tengah kata)\n",
    "print('\\n'r'Contoh \\B :')\n",
    "txt = '''Afootball\n",
    "        The afootest'''\n",
    "cocok = re.findall(r'\\Bfoo', txt)\n",
    "\n",
    "print(cocok)\n",
    "print('cocok' if cocok else 'Tidak cocok')\n",
    "\n",
    "## Contoh \\d : (Mencocokkan karakter digit [0-9])\n",
    "print('\\n'r'Contoh \\d :')\n",
    "txt = '12abc3'\n",
    "cocok = re.findall(r'\\d', txt)\n",
    "\n",
    "print(cocok)\n",
    "print('cocok' if cocok else 'Tidak cocok')\n",
    "\n",
    "## Contoh \\D : (Mencocokkan karakter yg bukan digit)\n",
    "print('\\n'r'Contoh \\D :')\n",
    "txt = '12abc3'\n",
    "cocok = re.findall(r'\\D', txt)\n",
    "\n",
    "print(cocok)\n",
    "print('cocok' if cocok else 'Tidak cocok')\n",
    "\n"
   ]
  },
  {
   "cell_type": "code",
   "execution_count": 16,
   "metadata": {},
   "outputs": [
    {
     "name": "stdout",
     "output_type": "stream",
     "text": [
      "Contoh \\s : (Mencocokkan karakter spasi)\n",
      "[' ']\n",
      "cocok\n",
      "\n",
      "Contoh \\S : (Mencocokkan karakter kecuali spasi\n",
      "['Python', 'RegEx']\n",
      "cocok\n",
      "\n",
      "Contoh \\w : (Mencocokkan karakter [a-z],[A-Z],[0-9], dan _ )\n",
      "['1', '2', '_', 'c', 'C']\n",
      "cocok\n",
      "\n",
      "Contoh \\W : (Mencocokkan karakter special (.,;:$% dst))\n",
      "['&', '/', '\"', ':', ';']\n",
      "cocok\n",
      "\n",
      "Contoh \\Z : (Mencocokkan karakter pada akhir string)\n",
      "['again']\n",
      "cocok\n"
     ]
    }
   ],
   "source": [
    "## Contoh \\s : (Mencocokkan karakter spasi)\n",
    "print(r'Contoh \\s : (Mencocokkan karakter spasi)')\n",
    "txt = 'Python RegEx'\n",
    "cocok = re.findall(r'\\s', txt)\n",
    "\n",
    "print(cocok)\n",
    "print('cocok' if cocok else 'Tidak cocok')\n",
    "\n",
    "## Contoh \\S : (Mencocokkan karakter kecuali spasi)\n",
    "print('\\n'r'Contoh \\S : (Mencocokkan karakter kecuali spasi')\n",
    "txt = 'Python RegEx'\n",
    "cocok = re.findall(r'\\S+', txt)\n",
    "\n",
    "print(cocok)\n",
    "print('cocok' if cocok else 'Tidak cocok')\n",
    "\n",
    "## Contoh \\w : (Mencocokkan karakter [a-z],[A-Z],[0-9], dan _ )\n",
    "print('\\n'r'Contoh \\w : (Mencocokkan karakter [a-z],[A-Z],[0-9], dan _ )')\n",
    "txt = '12&\":;_cC'\n",
    "cocok = re.findall(r'\\w', txt)\n",
    "\n",
    "print(cocok)\n",
    "print('cocok' if cocok else 'Tidak cocok')\n",
    "\n",
    "## Contoh \\W : (Mencocokkan karakter special (.,;:$% dst))\n",
    "print('\\n'r'Contoh \\W : (Mencocokkan karakter special (.,;:$% dst))')\n",
    "txt = '12&/\":;_cC'\n",
    "cocok = re.findall(r'\\W', txt)\n",
    "\n",
    "print(cocok)\n",
    "print('cocok' if cocok else 'Tidak cocok')\n",
    "\n",
    "## Contoh \\Z : (Mencocokkan karakter pada akhir string)\n",
    "print('\\n'r'Contoh \\Z : (Mencocokkan karakter pada akhir string)')\n",
    "txt = 'the sun will rise again'\n",
    "cocok = re.findall('again\\Z', txt)\n",
    "\n",
    "print(cocok)\n",
    "print('cocok' if cocok else 'Tidak cocok')"
   ]
  },
  {
   "cell_type": "markdown",
   "metadata": {},
   "source": [
    "## <font color = '#5DADE2'> C. Modul</font> <font color = '#DAA520'>RE</font>\n",
    "Python memiliki sebuah modul bernama <font color = '#DAA520'>re</font> yang digunakan untuk menjalankan perintah regex. Untuk menggunakannya kita perlu mengimport modul <font color = '#DAA520'>re</font>."
   ]
  },
  {
   "cell_type": "markdown",
   "metadata": {},
   "source": [
    "### <font color = '#DAA520'>RE</font> Function\n",
    "Berikut adalah beberapa function dalam modul <font color = '#DAA520'>re</font> untuk bekerja dengan regex :\n",
    "\n",
    "#### 1. <font color = '#DAA520'>re.findall()</font>\n",
    "Fungsi <font color = '#DAA520'>re.findall()</font> mengembalikan sebuah list string yang berisi semua\n",
    "kecocokan."
   ]
  },
  {
   "cell_type": "code",
   "execution_count": 17,
   "metadata": {},
   "outputs": [
    {
     "name": "stdout",
     "output_type": "stream",
     "text": [
      "['1234', '4523', '1412']\n"
     ]
    }
   ],
   "source": [
    "import re\n",
    "\n",
    "string = 'Hello 1234. Welcome 4523 Kaito 1412'\n",
    "pattern = r'\\d+' # akan mengembalikan kecocokan angka dalam satu kata\n",
    "\n",
    "result = re.findall(pattern, string)\n",
    "\n",
    "print(result)"
   ]
  },
  {
   "cell_type": "markdown",
   "metadata": {},
   "source": [
    "#### 2. <font color = '#DAA520'>re.split()</font>\n",
    "Fungsi <font color = '#DAA520'>re.split()</font> membelah sebuah string di mana ada kecocokan dan mengembalikannya ke dalam sebuah list string."
   ]
  },
  {
   "cell_type": "code",
   "execution_count": 18,
   "metadata": {},
   "outputs": [
    {
     "name": "stdout",
     "output_type": "stream",
     "text": [
      "['Hello ', '. Welcome ', ' Kaito ', '']\n"
     ]
    }
   ],
   "source": [
    "import re\n",
    "\n",
    "string = 'Hello 1234. Welcome 4523 Kaito 1412'\n",
    "pattern = r'\\d+'\n",
    "\n",
    "result = re.split(pattern, string)\n",
    "\n",
    "print(result)"
   ]
  },
  {
   "cell_type": "markdown",
   "metadata": {},
   "source": [
    "#### 3. <font color = '#DAA520'>re.sub()</font>\n",
    "Sintaks dari <font color = '#DAA520'>re.sub()</font> adalah:\n",
    "\n",
    "<font color = '#DAA520'>re.sub</font>(<font color = '#7FFF00'>*pattern*</font>, <font color = '#7FFF00'>*replace*</font>, <font color = '#7FFF00'>*string*</font>)\n",
    "\n",
    "Fungsi ini akan mengembalikan sebuah string di mana bagian yang cocok akan\n",
    "diganti dengan konten dari variable replace."
   ]
  },
  {
   "cell_type": "code",
   "execution_count": 19,
   "metadata": {},
   "outputs": [
    {
     "name": "stdout",
     "output_type": "stream",
     "text": [
      "Hello-1234-Welcome-4523-Kaito-1412\n",
      "5\n"
     ]
    }
   ],
   "source": [
    "import re\n",
    "\n",
    "string = 'Hello 1234 \\\n",
    "    Welcome 4523 \\n Kaito 1412'\n",
    "pattern = '\\s+'\n",
    "replace = '-'\n",
    "\n",
    "result = re.sub(pattern, replace, string)\n",
    "\n",
    "print(result)\n",
    "\n",
    "print(len(re.findall(pattern, string)))"
   ]
  },
  {
   "cell_type": "markdown",
   "metadata": {},
   "source": [
    "#### 4. <font color = '#DAA520'>re.subn()</font>\n",
    "Fungsi <font color = '#DAA520'>re.subn()</font> sama dengan <font color = '#DAA520'>re.sub()</font> kecuali ini mengembalikan sebuah *tuple* dari 2 item yang berisi string baru dan jumlah pergantian yang dilakukan."
   ]
  },
  {
   "cell_type": "code",
   "execution_count": 20,
   "metadata": {},
   "outputs": [
    {
     "name": "stdout",
     "output_type": "stream",
     "text": [
      "('Hello-1234-Welcome-4523-Kaito-1412', 5)\n"
     ]
    }
   ],
   "source": [
    "import re\n",
    "\n",
    "string = 'Hello 1234 \\\n",
    "    Welcome 4523 \\n Kaito 1412'\n",
    "pattern = '\\s+'\n",
    "replace = '-'\n",
    "\n",
    "result = re.subn(pattern, replace, string)\n",
    "\n",
    "print(result)"
   ]
  },
  {
   "cell_type": "markdown",
   "metadata": {},
   "source": [
    "#### 5. <font color = '#DAA520'>re.search()</font>\n",
    "Fungsi <font color = '#DAA520'>re.search()</font> akan mencari lokasi pertama di mana pola regex menghasilkan kecocokan dengan string. \n",
    "\n",
    "Jika pencarian berhasil, maka <font color = '#DAA520'>re.search()</font> akan mengembalikan objek; jika tidak, akan mengembalikan **None**."
   ]
  },
  {
   "cell_type": "code",
   "execution_count": 21,
   "metadata": {},
   "outputs": [
    {
     "name": "stdout",
     "output_type": "stream",
     "text": [
      "<re.Match object; span=(6, 11), match='World'>\n",
      "pattern found inside the string\n"
     ]
    }
   ],
   "source": [
    "import re\n",
    "\n",
    "string = \"Hello World\"\n",
    "\n",
    "match = re.search('World\\Z', string)\n",
    "\n",
    "print(match)\n",
    "if match:\n",
    "    print(\"pattern found inside the string\")\n",
    "else:\n",
    "    print(\"pattern not\")"
   ]
  },
  {
   "cell_type": "code",
   "execution_count": 22,
   "metadata": {},
   "outputs": [
    {
     "name": "stdout",
     "output_type": "stream",
     "text": [
      "['3', '12', '3', '64', '7']\n",
      "5\n"
     ]
    }
   ],
   "source": [
    "pola = r'\\b\\d+\\b'\n",
    "string = 'ananba45najs 3 anasbjew 12 3 64 7'\n",
    "\n",
    "x = re.findall(pola, string)\n",
    "print(x)\n",
    "print(len(x))"
   ]
  }
 ],
 "metadata": {
  "kernelspec": {
   "display_name": "Python 3",
   "language": "python",
   "name": "python3"
  },
  "language_info": {
   "codemirror_mode": {
    "name": "ipython",
    "version": 3
   },
   "file_extension": ".py",
   "mimetype": "text/x-python",
   "name": "python",
   "nbconvert_exporter": "python",
   "pygments_lexer": "ipython3",
   "version": "3.11.6"
  }
 },
 "nbformat": 4,
 "nbformat_minor": 2
}
