{
 "cells": [
  {
   "cell_type": "markdown",
   "metadata": {},
   "source": [
    "# <font color = '555555'> <center> BAB IX : Object Oriented Programming </font>"
   ]
  },
  {
   "cell_type": "markdown",
   "metadata": {},
   "source": [
    "Sebagai bahasa pemrograman *multi-paradigm*, python mendukung pendekatan pemrograman yang berbeda. Salah satu pendekatan populer untuk memecahkan masalah pemrograman adalah dengan membuat objek yang dikenal sebagai *object oriented programming* atau pemrograman berorientasi objek.\n",
    "\n",
    "Sebuah objek memiliki dua karakteristik:\n",
    "\n",
    "● <font color = '#EC7063'>Atribut</font> : variabel yang mewakili karakteristik objek\n",
    "\n",
    "● <font color = '#EC7063'>Perilaku</font> : method/fungsi pada suatu objek\n",
    "\n",
    "● <font color = '#EC7063'>Class variable</font> : variabel yang bersifat statik dan tidak diwariskan pada objeknya\n",
    "\n",
    "Sebagai contoh, seekor kucing adalah objek, karena memiliki sifat-sifat berikut:\n",
    "\n",
    "● nama, umur, warna sebagai **atribut**\n",
    "\n",
    "● makan, berlari sebagai **perilaku**"
   ]
  },
  {
   "cell_type": "markdown",
   "metadata": {},
   "source": [
    "<font color = \"FDFF52\">OOP</font> dalam Python bertujuan untuk mengimplementasikan entitas dalam dunia nyata seperti pewarisan, polimorfisme, enkapsulasi, dll.\n",
    "\n",
    "Dalam Python, konsep <font color = \"FDFF52\">OOP</font> mengikuti beberapa prinsip dasar:"
   ]
  },
  {
   "cell_type": "markdown",
   "metadata": {},
   "source": [
    "## <font color = '#5DADE2'> A. Class dan Objek </font>\n",
    "Kelas adalah struktur utama dalam <font color = \"FDFF52\">OOP</font> yang mendefinisikan atribut dan metode yang dimiliki oleh objek. Kelas berfungsi sebagai blueprint untuk menciptakan objek. Kita dapat menganggap kelas sebagai \"sketsa\" kucing dengan label. Ini berisi semua detail tentang nama, warna, ukuran, dll..\n",
    "\n",
    "Contoh syntax untuk membuat kelas *Kucing*:"
   ]
  },
  {
   "cell_type": "code",
   "execution_count": 2,
   "metadata": {},
   "outputs": [],
   "source": [
    "class Kucing :\n",
    "    pass"
   ]
  },
  {
   "cell_type": "markdown",
   "metadata": {},
   "source": []
  },
  {
   "cell_type": "code",
   "execution_count": 3,
   "metadata": {},
   "outputs": [],
   "source": [
    "blackie = Kucing()\n",
    "\n",
    "mochi = Kucing()"
   ]
  },
  {
   "cell_type": "markdown",
   "metadata": {},
   "source": [
    "### <font color = \"00bfc4\"> 1. Constructor </font>\n",
    "Konstruktor adalah fungsi yang dipanggil tepat setelah suatu objek dibuat. Fungsi ini dibuat di dalam blok utama kelas. Pada umumnya, *constructor* dibuat untuk melakukan inisialisai nilai atribut dari suatu entitas objek.."
   ]
  },
  {
   "cell_type": "code",
   "execution_count": 4,
   "metadata": {},
   "outputs": [
    {
     "name": "stdout",
     "output_type": "stream",
     "text": [
      "objek berhasil dibuat!\n"
     ]
    }
   ],
   "source": [
    "# class\n",
    "class Kucing :\n",
    "    def __init__(self) :                    #\n",
    "        print('objek berhasil dibuat!')     #\n",
    "\n",
    "# objek\n",
    "mochi = Kucing()"
   ]
  },
  {
   "cell_type": "markdown",
   "metadata": {},
   "source": [
    "Selain **\\_\\_init\\_\\_** terdapat dua constructor lainnya yang memiliki  fungsi tersendiri:\n",
    "\n",
    "1. \"**\\_\\_new\\_\\_(cls)**\"    --> Dipanggil otomatis untuk membuat instance baru\n",
    "2. \"**\\_\\_init\\_\\_(self)**\"  --> Dipanggil otomatis untuk inisialisasi instance baru\n",
    "3. \"**\\_\\_del\\_\\_(self)**\"   --> Dipanggil otomatis ketika objek dihapus"
   ]
  },
  {
   "cell_type": "markdown",
   "metadata": {},
   "source": [
    "### <font color = \"00bfc4\"> 2. Menambahkan Atribut </font>\n",
    "Atribut adalah variable Python yang hanya dimiliki oleh satu objek. Atribut dapat diakses dalam lingkup objek dan harus di inisialisasi dalam fungsi konstruktor kelas menggunakan keyword **self.<font color = \"#FF69B4\">[</font><font color = '#7FFF00'>nama atribut</font><font color = \"#FF69B4\">]</font>**. Atribut juga dapat ditambahkan langsung pada saat setelah objek dibuat dengan syntax **<font color = \"#FF69B4\">[</font><font color = '#7FFF00'>nama objek</font><font color = \"#FF69B4\">]</font>.<font color = \"#FF69B4\">[</font><font color = '#7FFF00'>nama atribut</font><font color = \"#FF69B4\">]</font>**"
   ]
  },
  {
   "cell_type": "code",
   "execution_count": 2,
   "metadata": {},
   "outputs": [
    {
     "name": "stdout",
     "output_type": "stream",
     "text": [
      "Contoh syntax untuk menambahkan atribut menggunakan konstruktor:\n",
      "anggora\n",
      "\n",
      "Contoh syntax untuk menambahkan atribut secara langsung:\n",
      "anggora\n"
     ]
    }
   ],
   "source": [
    "print('''Contoh syntax untuk menambahkan atribut menggunakan konstruktor:''')\n",
    "# class\n",
    "class Kucing :\n",
    "    def __init__(self, jenis) :             #\n",
    "        self.jenis = jenis                  #\n",
    "\n",
    "# objek\n",
    "mochi = Kucing('anggora')                   #\n",
    "\n",
    "print(mochi.jenis)\n",
    "\n",
    "\n",
    "print('''\\nContoh syntax untuk menambahkan atribut secara langsung:''')\n",
    "# class\n",
    "class Kucing :\n",
    "    pass\n",
    "\n",
    "# objek\n",
    "mochi = Kucing()\n",
    "mochi.jenis = 'anggora'                     #\n",
    "\n",
    "print(mochi.jenis)"
   ]
  },
  {
   "cell_type": "markdown",
   "metadata": {},
   "source": [
    "### <font color = \"00bfc4\"> 3. Menambahkan Perilaku/Method </font>\n",
    "Method adalah tindakan yang dapat terjadi pada suatu objek. Perilaku yang dapat dilakukan pada kelas objek tertentu disebut *method*. Pada tingkat pemrograman, *method* seperti fungsi dalam pemrograman terstruktur, tetapi mereka secara ajaib memiliki akses ke semua data yang terkait dengan objeknya.\n",
    "\n",
    "Seperti fungsi, metode juga dapat menerima parameter dan mengembalikan nilai.\n",
    "\n",
    "Contoh syntax untuk menambahkan atribut secara langsung:"
   ]
  },
  {
   "cell_type": "code",
   "execution_count": 11,
   "metadata": {},
   "outputs": [
    {
     "name": "stdout",
     "output_type": "stream",
     "text": [
      "Tertidur selama 30 menit\n",
      "Kesehatan : 12.5\n"
     ]
    }
   ],
   "source": [
    "# class\n",
    "class Kucing :\n",
    "    def __init__(self, jenis) :\n",
    "        self.jenis = jenis\n",
    "        self.kesehatan = 5\n",
    "\n",
    "    def tidur(self, menit) :\n",
    "        self.kesehatan += menit/4\n",
    "        print(f'Tertidur selama {str(menit)} menit')\n",
    "\n",
    "# objek\n",
    "mochi = Kucing('anggora')\n",
    "mochi.tidur(30)             # 30/4 = 7,5 --> 5 + 7,5 = 12,5\n",
    "\n",
    "print(f'Kesehatan : {str(mochi.kesehatan)}')"
   ]
  },
  {
   "cell_type": "markdown",
   "metadata": {},
   "source": [
    "## <font color = '#5DADE2'> B. Inheritance </font>\n",
    "*Inheritance* (Warisan) adalah cara membuat kelas baru dengan menggunakan detail kelas (atribut dan fungsi) yang ada tanpa memodifikasinya. Kelas yang baru terbentuk adalah kelas turunan (atau kelas **child**). Demikian pula kelas yang ada adalah kelas dasar (atau kelas **parent**)"
   ]
  },
  {
   "cell_type": "code",
   "execution_count": 12,
   "metadata": {},
   "outputs": [
    {
     "name": "stdout",
     "output_type": "stream",
     "text": [
      "Tertidur selama 30 menit\n",
      "Kesehatan : 12.5\n",
      "Penguin\n"
     ]
    }
   ],
   "source": [
    "# class parent\n",
    "class Kucing :\n",
    "    def __init__(self, jenis) :\n",
    "        self.jenis = jenis\n",
    "        self.kesehatan = 5\n",
    "\n",
    "    def tidur(self, menit) :\n",
    "        self.kesehatan += menit/4\n",
    "        print(f'Tertidur selama {str(menit)} menit')\n",
    "\n",
    "# class child\n",
    "class Penguin(Kucing) :             # inheritance ke class kucing\n",
    "    def __init__(self,jenis) :\n",
    "        super().__init__(jenis)     # memanggil __init__ parent\n",
    "    \n",
    "    def berenang(self):\n",
    "        print('Penguin berenang dengan cepat!')\n",
    "\n",
    "# objek\n",
    "pingo = Penguin('Penguin')\n",
    "pingo.tidur(30)\n",
    "\n",
    "print(f'Kesehatan : {str(pingo.kesehatan)}')\n",
    "print(pingo.jenis)"
   ]
  },
  {
   "cell_type": "markdown",
   "metadata": {},
   "source": [
    "Berdasarkan contoh di atas, class **Penguin** dapat memanggil *method* dan *atribut* yang telah didefinisikan pada class **Kucing** meskipun pada class penguin atribut dan method tersebut tidak didefinisikan. \n",
    "\n",
    "Jika method pada class child diwarisi dari class parent, namun berbeda halnya dengan constructor yang tidak dapat diwariskan. Namun, constructor class parent masih dapat dipanggil dengan menggunakan keyword \n",
    "\n",
    "**super( ).\\_\\_init\\_\\_( )**."
   ]
  },
  {
   "cell_type": "markdown",
   "metadata": {},
   "source": [
    "## <font color = '#5DADE2'> C. Encapsulation </font>\n",
    "Menggunakan <font color = \"FDFF52\">OOP</font> di Python, kita dapat membatasi akses ke method dan variable. Hal ini untuk mencegah data agar tidak dapat dimodifikasi langsung yaitu dengan menggunakan konsep enkapsulasi.\n",
    "\n",
    "### <font color = \"00bfc4\"> 1. Hak Akses (*Accses Modifier*) </font>\n",
    "Dalam Python, untuk  menunjukkan atribut private (pribadi) menggunakan garis bawah sebagai awalan yaitu \"__\" ganda\n",
    "\n",
    "1. \"Variable\"   : *Public*\n",
    "2. \"_Variable\"  : *Protected*\n",
    "3. \"__Variable\" : *Private*\n",
    "\n",
    "Protected di python sebenarnya masih bisa di akses layaknya public, namun protected memiliki aturan tidak tertulis yang menandakan bahwa protected harus diberlakukan sebagaimana sifatnya."
   ]
  },
  {
   "cell_type": "markdown",
   "metadata": {},
   "source": [
    "### <font color = \"00bfc4\"> 2. Getter and Setter </font>\n",
    "Data yang memiliki hak akses private masih dapat dimodifikasi dengan menggunakan fungsi di dalam class tersebut, yaitu dengan menggunakan *getter* (mengambil nilai) dan *setter* (mengubah nilai)"
   ]
  },
  {
   "cell_type": "code",
   "execution_count": 10,
   "metadata": {},
   "outputs": [
    {
     "name": "stdout",
     "output_type": "stream",
     "text": [
      "menjual seharga : 800\n",
      "800\n",
      "menjual seharga : 800\n",
      "menjual seharga : 1000\n"
     ]
    }
   ],
   "source": [
    "# CONTOH 1 :\n",
    "class Komputer :\n",
    "    def __init__(self):\n",
    "        self.__hargaMax = 800\n",
    "\n",
    "    def jual(self):\n",
    "        print('menjual seharga : {}'.format(self.__hargaMax))\n",
    "    \n",
    "    def setHargaMax(self, harga):\n",
    "        self.__hargaMax = harga\n",
    "\n",
    "    def getHargaMax(self):\n",
    "        return self.__hargaMax\n",
    "\n",
    "\n",
    "komp = Komputer()\n",
    "komp.jual()\n",
    "\n",
    "# mengambil nilai atribut\n",
    "print(f'menjual seharga : {komp.__hargaMax}')  # output = AtributError: 'Komputer' object has no attribut '__hargaMax'\n",
    "\n",
    "# menggunakan fungsi get\n",
    "print(f'menjual seharga : {komp.getHargaMax()}')\n",
    "\n",
    "\n",
    "# mengubah harga secara langsung\n",
    "komp.__hargaMax = 1000\n",
    "komp.jual()     # output = 800 (variable private, tidak dapat diubah)\n",
    "\n",
    "# menggunakan fungsi set\n",
    "komp.setHargaMax(1000)\n",
    "komp.jual()"
   ]
  },
  {
   "cell_type": "code",
   "execution_count": 18,
   "metadata": {},
   "outputs": [
    {
     "name": "stdout",
     "output_type": "stream",
     "text": [
      "Tertidur selama 30 menit\n",
      "Kesehatan : 12.5\n",
      "Kesehatan Maks : 100\n",
      "Kesehatan Maks : 100\n",
      "Kesehatan Maks : 50\n"
     ]
    }
   ],
   "source": [
    "# CONTOH 2 :\n",
    "class Kucing :\n",
    "    def __init__(self, jenis) :\n",
    "        self.jenis = jenis\n",
    "        self.kesehatan = 5\n",
    "        self.__kesehatanMaks = 100\n",
    "\n",
    "    def tidur(self, menit) :\n",
    "        self.kesehatan += menit/4\n",
    "        print(f'Tertidur selama {str(menit)} menit')\n",
    "\n",
    "    def setKesehatanMaks(self, nilai_maks):\n",
    "        self.__kesehatanMaks = nilai_maks\n",
    "\n",
    "    def getKesehatanMaks(self):\n",
    "        return self.__kesehatanMaks\n",
    "\n",
    "# objek\n",
    "mochi = Kucing('anggora')\n",
    "mochi.tidur(30)\n",
    "print(f'Kesehatan : {mochi.kesehatan}')\n",
    "\n",
    "# mengambil nilai Maks\n",
    "print(f'Kesehatan Maks : {mochi.__kesehatanMaks}')  # output = AtributError: 'Kucing' object has no attribut '__kesehatanMaks'\n",
    "# menggunakan Fungsi get\n",
    "print(f'Kesehatan Maks : {mochi.getKesehatanMaks()}')\n",
    "\n",
    "# mengubah nilai Maks (secara langsung)\n",
    "mochi.__kesehatanMaks = 50\n",
    "print(f'Kesehatan Maks : {mochi.getKesehatanMaks()}') # output = 100\n",
    "# menggunakan Fungsi set\n",
    "mochi.setKesehatanMaks(50)\n",
    "print(f'Kesehatan Maks : {mochi.getKesehatanMaks()}')\n"
   ]
  },
  {
   "cell_type": "markdown",
   "metadata": {},
   "source": [
    "## <font color = '#5DADE2'> D. Polymorphism </font>\n",
    "Polimorfisme adalah kemampuan (dalam <font color = \"FDFF52\">OOP</font>) untuk menggunakan interface publik untuk berbagai bentuk (tipe data). Misalkan, kita perlu mewarna sebuah bentuk, ada beberapa pilihan bentuk (persegi panjang, persegi, lingkaran). Namun kita bisa menggunakan metode yang sama untuk mewarnai bentuk apapun. Konsep ini disebut Polimorfisme."
   ]
  },
  {
   "cell_type": "code",
   "execution_count": 9,
   "metadata": {},
   "outputs": [
    {
     "name": "stdout",
     "output_type": "stream",
     "text": [
      "Kucing tidak bisa terbang!\n",
      "penguin terbang dengan cepat!\n"
     ]
    }
   ],
   "source": [
    "# class parent\n",
    "class Kucing :\n",
    "    def __init__(self, jenis):\n",
    "        self.jenis = jenis\n",
    "        self.kesehatan = 5\n",
    "\n",
    "    def terbang(self):\n",
    "        print('Kucing tidak bisa terbang!')\n",
    "    \n",
    "# class child\n",
    "class Penguin(Kucing):\n",
    "    def __init__(self, jenis):\n",
    "        super().__init__(jenis)\n",
    "\n",
    "    def terbang(self):\n",
    "        print('penguin terbang dengan cepat!')\n",
    "\n",
    "# interface\n",
    "def test_terbang(hewan):\n",
    "    hewan.terbang()\n",
    "\n",
    "# objek\n",
    "mochi = Kucing('anggora')\n",
    "pingo = Penguin('penguin')\n",
    "\n",
    "# memanggil interface pada kedua \n",
    "test_terbang(mochi)\n",
    "test_terbang(pingo)"
   ]
  },
  {
   "cell_type": "markdown",
   "metadata": {},
   "source": []
  },
  {
   "cell_type": "code",
   "execution_count": null,
   "metadata": {},
   "outputs": [],
   "source": [
    "class Harimau:\n",
    "    def __init__(self, jenis):\n",
    "        self.jenis = jenis\n",
    "        self.kesehatan = 10\n",
    "        "
   ]
  }
 ],
 "metadata": {
  "kernelspec": {
   "display_name": "Python 3",
   "language": "python",
   "name": "python3"
  },
  "language_info": {
   "codemirror_mode": {
    "name": "ipython",
    "version": 3
   },
   "file_extension": ".py",
   "mimetype": "text/x-python",
   "name": "python",
   "nbconvert_exporter": "python",
   "pygments_lexer": "ipython3",
   "version": "3.11.6"
  }
 },
 "nbformat": 4,
 "nbformat_minor": 2
}
