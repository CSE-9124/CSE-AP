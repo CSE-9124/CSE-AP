{
 "cells": [
  {
   "cell_type": "markdown",
   "metadata": {},
   "source": [
    "# Algoritma Pemrograman Kuis 1\n"
   ]
  },
  {
   "cell_type": "code",
   "execution_count": 2,
   "metadata": {},
   "outputs": [],
   "source": [
    "import re"
   ]
  },
  {
   "cell_type": "markdown",
   "metadata": {},
   "source": [
    "# <font color = '00BFC4'> <center> Paragraf 1"
   ]
  },
  {
   "cell_type": "code",
   "execution_count": 3,
   "metadata": {},
   "outputs": [
    {
     "data": {
      "text/plain": [
       "'Sistem Informasi merupakan kombinasi antara teknologi informasi dan aktivitas manusia yang mengandalkan teknologi tersebut untuk mendukung operasional dan manajemen. Dalam pengertian yang lebih luas, istilah sistem informasi sering digunakan untuk merujuk pada interaksi antara individu, proses algoritma, data, dan teknologi. Penggunaan istilah ini tidak hanya terbatas pada cara suatu perusahaan atau organisasi memanfaatkan SI dan teknologi informasi, melainkan juga mencakup bagaimana individu berinteraksi dengan teknologi tersebut untuk mendukung proses bisnis mereka.'"
      ]
     },
     "execution_count": 3,
     "metadata": {},
     "output_type": "execute_result"
    }
   ],
   "source": [
    "paragraf1 = \"Sistem Informasi merupakan kombinasi antara teknologi informasi dan aktivitas manusia yang mengandalkan teknologi tersebut untuk mendukung operasional dan manajemen. Dalam pengertian yang lebih luas, istilah sistem informasi sering digunakan untuk merujuk pada interaksi antara individu, proses algoritma, data, dan teknologi. Penggunaan istilah ini tidak hanya terbatas pada cara suatu perusahaan atau organisasi memanfaatkan SI dan teknologi informasi, melainkan juga mencakup bagaimana individu berinteraksi dengan teknologi tersebut untuk mendukung proses bisnis mereka.\"\n",
    "paragraf1"
   ]
  },
  {
   "cell_type": "markdown",
   "metadata": {},
   "source": [
    "# <font color = '00BFC4'> <center> Paragraf 2"
   ]
  },
  {
   "cell_type": "code",
   "execution_count": 4,
   "metadata": {},
   "outputs": [
    {
     "data": {
      "text/plain": [
       "'Tujuan utama dari penggunaan SI adalah untuk mengelola berbagai informasi yang dikelola oleh perusahaan atau organisasi dengan lebih efisien, mengurangi kebutuhan sumber daya yang berlebihan, dan mempercepat proses tersebut. Selain itu, data yang dikelola melalui Sistem Informasi (SI) dapat diakses dengan fleksibilitas, membantu mengurangi tingkat birokrasi yang ada.'"
      ]
     },
     "execution_count": 4,
     "metadata": {},
     "output_type": "execute_result"
    }
   ],
   "source": [
    "paragraf2 = \"Tujuan utama dari penggunaan SI adalah untuk mengelola berbagai informasi yang dikelola oleh perusahaan atau organisasi dengan lebih efisien, mengurangi kebutuhan sumber daya yang berlebihan, dan mempercepat proses tersebut. Selain itu, data yang dikelola melalui Sistem Informasi (SI) dapat diakses dengan fleksibilitas, membantu mengurangi tingkat birokrasi yang ada.\"\n",
    "paragraf2 "
   ]
  },
  {
   "cell_type": "markdown",
   "metadata": {},
   "source": [
    "# <font color = '00BFC4'> <center> Paragraf 3"
   ]
  },
  {
   "cell_type": "code",
   "execution_count": 5,
   "metadata": {},
   "outputs": [
    {
     "data": {
      "text/plain": [
       "'Sistem informasi baru muncul dari proses pemecahan masalah organisasi. Suatu sistem informasi baru diciptakan sebagai solusi terhadap suatu jenis permasalahan atau rangkaian permasalahan tertentu yang dihadapi oleh suatu perusahaan atau organisasi. Kegiatan yang mengarah pada penciptaan solusi sistem informasi bisnis untuk mengatasi permasalahan bisnis atau memanfaatkan peluang disebut pengembangan sistem. Pengembangan sistem merupakan suatu jenis penyelesaian masalah yang terstruktur dengan aktivitas yang jelas dan bertujuan untuk menghasilkan sebuah produk yang berisi kumpulan informasi. Kegiatan tersebut meliputi analisis sistem, desain sistem, pemrograman, pengujian, konversi, produksi, dan pemeliharaan. Sebuah sistem tentunya melibatkan berbagai jenis dan tipe data yang mampu diolah agar dapat ditampilkan dengan mudah kepada pengguna (user).'"
      ]
     },
     "execution_count": 5,
     "metadata": {},
     "output_type": "execute_result"
    }
   ],
   "source": [
    "paragraf3 = \"Sistem informasi baru muncul dari proses pemecahan masalah organisasi. Suatu sistem informasi baru diciptakan sebagai solusi terhadap suatu jenis permasalahan atau rangkaian permasalahan tertentu yang dihadapi oleh suatu perusahaan atau organisasi. Kegiatan yang mengarah pada penciptaan solusi sistem informasi bisnis untuk mengatasi permasalahan bisnis atau memanfaatkan peluang disebut pengembangan sistem. Pengembangan sistem merupakan suatu jenis penyelesaian masalah yang terstruktur dengan aktivitas yang jelas dan bertujuan untuk menghasilkan sebuah produk yang berisi kumpulan informasi. Kegiatan tersebut meliputi analisis sistem, desain sistem, pemrograman, pengujian, konversi, produksi, dan pemeliharaan. Sebuah sistem tentunya melibatkan berbagai jenis dan tipe data yang mampu diolah agar dapat ditampilkan dengan mudah kepada pengguna (user).\"\n",
    "paragraf3 "
   ]
  },
  {
   "cell_type": "markdown",
   "metadata": {},
   "source": [
    "# re.findall()"
   ]
  },
  {
   "cell_type": "code",
   "execution_count": 12,
   "metadata": {},
   "outputs": [
    {
     "name": "stdout",
     "output_type": "stream",
     "text": [
      "['untuk', 'Dalam', 'lebih', 'untuk', 'tidak', 'hanya', 'suatu', 'untuk']\n"
     ]
    }
   ],
   "source": [
    "pola1 = r\"\\b[A-Za-z]{5}\\b\"\n",
    "print(re.findall(pola1, paragraf1))"
   ]
  },
  {
   "cell_type": "markdown",
   "metadata": {},
   "source": [
    "# re.search()"
   ]
  },
  {
   "cell_type": "code",
   "execution_count": 44,
   "metadata": {},
   "outputs": [
    {
     "name": "stdout",
     "output_type": "stream",
     "text": [
      "None\n",
      "Tidak ada kecocokan pada pola\n"
     ]
    }
   ],
   "source": [
    "pola2 = r\"\\ASistem\"\n",
    "cek = re.search(pola2, paragraf2)\n",
    "print(cek)\n",
    "if cek:\n",
    "    print(\"ada kecocokan pada pola\")\n",
    "else:\n",
    "    print(\"Tidak ada kecocokan pada pola\")"
   ]
  },
  {
   "cell_type": "markdown",
   "metadata": {},
   "source": [
    "# re.split()"
   ]
  },
  {
   "cell_type": "code",
   "execution_count": 34,
   "metadata": {},
   "outputs": [
    {
     "name": "stdout",
     "output_type": "stream",
     "text": [
      "['Kegiatan tersebut meliputi analisis sistem', 'desain sistem', 'pemrograman', 'pengujian', 'konversi', 'produksi', '', 'pemeliharaan.']\n"
     ]
    }
   ],
   "source": [
    "# Pada Paragraf 3\n",
    "Teks = 'Kegiatan tersebut meliputi analisis sistem, desain sistem, pemrograman, pengujian, konversi, produksi, dan pemeliharaan.'\n",
    "pola3 = r\",\\s|dan\\s\"\n",
    "print(re.split(pola3, Teks))"
   ]
  },
  {
   "cell_type": "markdown",
   "metadata": {},
   "source": [
    "# re.sub()"
   ]
  },
  {
   "cell_type": "code",
   "execution_count": 41,
   "metadata": {},
   "outputs": [
    {
     "name": "stdout",
     "output_type": "stream",
     "text": [
      "Sistem informasi baru muncul dari proses pemecahan masalah organisasi. Suatu Sistem Informasi baru diciptakan sebagai solusi terhadap suatu jenis permasalahan atau rangkaian permasalahan tertentu yang dihadapi oleh suatu perusahaan atau organisasi. Kegiatan yang mengarah pada penciptaan solusi Sistem Informasi bisnis untuk mengatasi permasalahan bisnis atau memanfaatkan peluang disebut pengembangan sistem. Pengembangan sistem merupakan suatu jenis penyelesaian masalah yang terstruktur dengan aktivitas yang jelas dan bertujuan untuk menghasilkan sebuah produk yang berisi kumpulan informasi. Kegiatan tersebut meliputi analisis sistem, desain sistem, pemrograman, pengujian, konversi, produksi, dan pemeliharaan. Sebuah sistem tentunya melibatkan berbagai jenis dan tipe data yang mampu diolah agar dapat ditampilkan dengan mudah kepada pengguna (user).\n"
     ]
    }
   ],
   "source": [
    "pola4 = r\"sistem\\sinformasi\"\n",
    "ubah = \"Sistem Informasi\"\n",
    "print(re.sub(pola4, ubah, paragraf3))"
   ]
  }
 ],
 "metadata": {
  "kernelspec": {
   "display_name": "Python 3",
   "language": "python",
   "name": "python3"
  },
  "language_info": {
   "codemirror_mode": {
    "name": "ipython",
    "version": 3
   },
   "file_extension": ".py",
   "mimetype": "text/x-python",
   "name": "python",
   "nbconvert_exporter": "python",
   "pygments_lexer": "ipython3",
   "version": "3.11.6"
  }
 },
 "nbformat": 4,
 "nbformat_minor": 2
}
