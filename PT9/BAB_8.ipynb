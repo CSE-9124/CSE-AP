{
 "cells": [
  {
   "cell_type": "markdown",
   "metadata": {},
   "source": [
    "# <font color = '555555'> <center> BAB VII Tuples dan Sets "
   ]
  },
  {
   "cell_type": "markdown",
   "metadata": {},
   "source": [
    "## <font color = '#5DADE2'> A. Introduction </font>\n",
    "Tuple dan Set adalah salah satu dari 4 tipe data bawaan dalam Python yang digunakan untuk menyimpan kumpulan data, 2 lainnya adalah List dan Dictionary semuanya dengan kualitas dan penggunaan yang berbeda."
   ]
  },
  {
   "cell_type": "markdown",
   "metadata": {},
   "source": [
    "## <font color = '#5DADE2'> B. Tuples </font>\n",
    "### <font color = \"00bfc4\"> 1. Pengertian </font>\n",
    "Digunakan untuk menyimpan beberapa item dalam satu variabel. Tuple adalah kumpulan item dan tidak dapat diubah, penulisan tuple dengan tanda kurung \"()\".\n",
    "\n",
    "Contoh :"
   ]
  },
  {
   "cell_type": "code",
   "execution_count": 2,
   "metadata": {},
   "outputs": [
    {
     "name": "stdout",
     "output_type": "stream",
     "text": [
      "('Sinonim', 'Musliati', 'Latihan tidak ada', 'Andi Aisar')\n"
     ]
    },
    {
     "data": {
      "text/plain": [
       "(1, 'Matematika', False, 'Statistika', True, 'Sistem Informasi')"
      ]
     },
     "execution_count": 2,
     "metadata": {},
     "output_type": "execute_result"
    }
   ],
   "source": [
    "## cara 1\n",
    "tuple_1 = ('Sinonim', 'Musliati', 'Latihan tidak ada', 'Andi Aisar')\n",
    "print(tuple_1)\n",
    "tuple_2 = (1, \"Matematika\", False, \"Statistika\", True, \"Sistem Informasi\")\n",
    "tuple_2"
   ]
  },
  {
   "cell_type": "code",
   "execution_count": 2,
   "metadata": {},
   "outputs": [
    {
     "name": "stdout",
     "output_type": "stream",
     "text": [
      "Sinonim, Musliati, Latihan tidak ada, Andi Aisar, "
     ]
    }
   ],
   "source": [
    "## cara 2\n",
    "tuple_1 = ('Sinonim', 'Musliati', 'Latihan tidak ada', 'Andi Aisar')\n",
    "for i in tuple_1:\n",
    "    print(i, end=', ')"
   ]
  },
  {
   "cell_type": "markdown",
   "metadata": {},
   "source": [
    "Sama halnya dengan list, tuple juga bisa memiliki item yang berbeda type datanya serta juga dapat diketahui panjangnya atau banyaknya item di dalam tuple dengan menggunakan fungsi <font color = \"Red\">len( )</font>.\n",
    "\n",
    "Contoh :"
   ]
  },
  {
   "cell_type": "code",
   "execution_count": 3,
   "metadata": {},
   "outputs": [
    {
     "name": "stdout",
     "output_type": "stream",
     "text": [
      "Panjang Tuple: 3\n"
     ]
    }
   ],
   "source": [
    "my_tuple = ('Matematika', 'Statistika', 'Sistem Informasi')\n",
    "\n",
    "print('Panjang Tuple:', len(my_tuple))"
   ]
  },
  {
   "cell_type": "markdown",
   "metadata": {},
   "source": [
    "### <font color = \"00bfc4\"> 2. Manipulasi Tuple </font>\n",
    "Tuple kumpulan beberapa item dan tidak dapat diubah lagi. Tetapi kita bisa melakukan manipulasi tuple tersebut, dengan cara melakukan konversi type data tuple ke list, lalu data list yang kita ubah, setelah diubah, dilakukan kembali konversi data dari list ke tuple.\n",
    "\n",
    "Contoh :"
   ]
  },
  {
   "cell_type": "code",
   "execution_count": 4,
   "metadata": {},
   "outputs": [
    {
     "name": "stdout",
     "output_type": "stream",
     "text": [
      "Matematika\n",
      "Data Science\n",
      "Sistem Informasi\n",
      "Aktuaria\n"
     ]
    }
   ],
   "source": [
    "my_tuple = ('Matematika', 'Statistika', 'Sistem Informasi')\n",
    "\n",
    "conv_list = list(my_tuple)\n",
    "conv_list.append('Aktuaria')\n",
    "conv_list.remove('Statistika')\n",
    "conv_list.insert(1, 'Data Science')\n",
    "my_tuple = tuple(conv_list)\n",
    "\n",
    "for i in my_tuple:\n",
    "    print(i)"
   ]
  },
  {
   "cell_type": "markdown",
   "metadata": {},
   "source": [
    "## <font color = '#5DADE2'> C. Sets </font>\n",
    "### <font color = \"00bfc4\"> 1. Pengertian </font>\n",
    "Set adalah kumpulan yang tidak berurutan, tidak dapat diubah, dan tidak terindeks dan tidak ada anggota yang terduplikat.\n",
    "\n",
    "Contoh :"
   ]
  },
  {
   "cell_type": "code",
   "execution_count": 5,
   "metadata": {},
   "outputs": [
    {
     "name": "stdout",
     "output_type": "stream",
     "text": [
      "{False, 1, 'Sistem Informasi', 'Statistika', 'Matematika'}\n"
     ]
    }
   ],
   "source": [
    "my_set = {1, 'Matematika', False, 'Statistika', True, 'Sistem Informasi'}\n",
    "print(my_set)"
   ]
  },
  {
   "cell_type": "markdown",
   "metadata": {},
   "source": [
    "Sama halnya dengan tuple, set juga bisa memiliki item yang berbeda type datanya serta juga dapat diketahui panjangnya atau banyaknya item di dalam set dengan menggunakan fungsi <font color = 'Red'>len()</font>.\n",
    "\n",
    "Contoh :"
   ]
  },
  {
   "cell_type": "code",
   "execution_count": 6,
   "metadata": {},
   "outputs": [
    {
     "name": "stdout",
     "output_type": "stream",
     "text": [
      "Banyak item: 5\n"
     ]
    }
   ],
   "source": [
    "my_set = {1, 'Matematika', False, 'Statistika', True, 'Sistem Informasi'}\n",
    "print('Banyak item:', len(my_set))"
   ]
  },
  {
   "cell_type": "markdown",
   "metadata": {},
   "source": [
    "### <font color = \"00bfc4\"> 2. Manipulasi Tuple </font>\n",
    "Sama halnya dengan tuple, set juga kumpulan beberapa item dan tidak dapat diubah lagi. Tetapi kita bisa melakukan manipulasi set tersebut, dengan cara melakukan konversi type data set ke list, lalu data list yang kita ubah, setelah diubah, dilakukan kembali konversi data dari list ke set.\n",
    "\n",
    "Contoh :"
   ]
  },
  {
   "cell_type": "code",
   "execution_count": 7,
   "metadata": {},
   "outputs": [
    {
     "name": "stdout",
     "output_type": "stream",
     "text": [
      "Sistem Informasi\n",
      "Statistika\n",
      "Matematika\n",
      "Data Science\n",
      "Aktuaria\n"
     ]
    }
   ],
   "source": [
    "my_set = {1, 'Matematika', False, 'Statistika', True, 'Sistem Informasi'}\n",
    "my_list = list(my_set)\n",
    "my_list.remove(1)\n",
    "my_list.remove(False)\n",
    "my_list.append('Aktuaria')\n",
    "my_list.insert(1, 'Data Science')\n",
    "my_set = set(my_list)\n",
    "\n",
    "for i in my_set:\n",
    "    print(i)"
   ]
  },
  {
   "cell_type": "code",
   "execution_count": 12,
   "metadata": {},
   "outputs": [
    {
     "name": "stdout",
     "output_type": "stream",
     "text": [
      "{'H071231009', 'H071231004', 'H071231005', 'H071231001', 'H071231008', 'H071231002', 'H071231010', 'H071231006', 'H071231007', 'H071231003'}\n"
     ]
    }
   ],
   "source": [
    "## TEST TEST\n",
    "a = []\n",
    "for i in range(1, 11):\n",
    "    a.append(f'H071231{i:03d}')\n",
    "    \n",
    "print(set(a))"
   ]
  }
 ],
 "metadata": {
  "kernelspec": {
   "display_name": "Python 3",
   "language": "python",
   "name": "python3"
  },
  "language_info": {
   "codemirror_mode": {
    "name": "ipython",
    "version": 3
   },
   "file_extension": ".py",
   "mimetype": "text/x-python",
   "name": "python",
   "nbconvert_exporter": "python",
   "pygments_lexer": "ipython3",
   "version": "3.11.6"
  }
 },
 "nbformat": 4,
 "nbformat_minor": 2
}
