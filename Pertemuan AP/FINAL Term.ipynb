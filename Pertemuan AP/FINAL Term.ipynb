{
 "cells": [
  {
   "cell_type": "markdown",
   "metadata": {},
   "source": [
    "# <font color = '#9B59B6'> <center> UAS Algoritma Sisfo 2023 </font>\n",
    "\n",
    "Nama : Cholyn Sharon Enos\n",
    "\n",
    "NIM : H071231040"
   ]
  },
  {
   "cell_type": "markdown",
   "metadata": {},
   "source": [
    "### <font color = \"00bfc4\"> No. 1 </font>"
   ]
  },
  {
   "cell_type": "code",
   "execution_count": 47,
   "metadata": {},
   "outputs": [
    {
     "name": "stdout",
     "output_type": "stream",
     "text": [
      "input char = *\n",
      "Input n    = 5\n",
      "\n",
      "          * \n",
      "        * * \n",
      "      * * * \n",
      "    * * * * \n",
      "  * * * * * \n"
     ]
    }
   ],
   "source": [
    "Char = input('input char = ')\n",
    "N = int(input('Input n = '))\n",
    "\n",
    "print(f'input char = {Char}')\n",
    "print(f'Input n    = {N}\\n')\n",
    "\n",
    "for i in range(1, N + 1):\n",
    "    x = Char + ' '\n",
    "    x = x * i\n",
    "    print(f'{x.rjust(N*2 + 2)}')"
   ]
  },
  {
   "cell_type": "markdown",
   "metadata": {},
   "source": [
    "### <font color = \"00bfc4\"> No. 2 </font>"
   ]
  },
  {
   "cell_type": "code",
   "execution_count": 39,
   "metadata": {},
   "outputs": [
    {
     "name": "stdout",
     "output_type": "stream",
     "text": [
      "a. Output:\n",
      "   Panjang bilangan: 6\n",
      "   1 + 1 + 2 + 3 + 5 + 8\n"
     ]
    }
   ],
   "source": [
    "## a.\n",
    "Panjang = int(input('Panjang bilangan: '))\n",
    "\n",
    "print('a. Output:')\n",
    "print(f'   Panjang bilangan: {Panjang}')\n",
    "\n",
    "U1 = 1\n",
    "U2 = 1\n",
    "Hasil = []\n",
    "if Panjang > 0:\n",
    "    for _ in range(Panjang):\n",
    "        Hasil.append(U1)\n",
    "        Un = U1 + U2\n",
    "        U1 = U2\n",
    "        U2 = Un\n",
    "elif Panjang == 1:\n",
    "    print(f'   {U1}')\n",
    "\n",
    "print(f\"   {' + '.join(map(str, Hasil))}\")"
   ]
  },
  {
   "cell_type": "code",
   "execution_count": 43,
   "metadata": {},
   "outputs": [
    {
     "name": "stdout",
     "output_type": "stream",
     "text": [
      "b. Output:\n",
      "   Habis di bagai   : 4\n",
      "   Panjang bilangan : 5\n",
      "   4, 8, 12, 16, 20\n"
     ]
    }
   ],
   "source": [
    "## b.\n",
    "Dibagi = int(input('Habis di bagai : '))\n",
    "Panjang = int(input('Panjang bilangan : '))\n",
    "\n",
    "print('b. Output:')\n",
    "print(f'   Habis di bagai   : {Dibagi}')\n",
    "print(f'   Panjang bilangan : {Panjang}')\n",
    "\n",
    "x = Dibagi\n",
    "Hasil = []\n",
    "for _ in range(Panjang):\n",
    "    Hasil.append(x)\n",
    "    x += Dibagi\n",
    "\n",
    "print(f\"   {', '.join(map(str, Hasil))}\")"
   ]
  },
  {
   "cell_type": "markdown",
   "metadata": {},
   "source": [
    "### <font color = \"00bfc4\"> No. 3 </font>"
   ]
  },
  {
   "cell_type": "code",
   "execution_count": 44,
   "metadata": {},
   "outputs": [
    {
     "name": "stdout",
     "output_type": "stream",
     "text": [
      "Masukkan kalimat/paragraph: ['Yes', 'I', 'Have', 'a', 'Crush', 'on', 'You', 'but', 'being', 'your', 'boyfriend', 'is', 'not', 'in', 'my', 'list', 'i', 'need', 'to', 'focus', 'on', 'myself', 'first', 'and', 'then', \"let's\", 'meet', 'again', 'with', 'the', 'best', 'version', 'of', 'us']\n",
      "Banyak kata: 34\n"
     ]
    }
   ],
   "source": [
    "Kalimat_atau_Paragraf = input('Masukkan kalimat/paragraph: ').split()\n",
    "Banyak = len(Kalimat_atau_Paragraf)\n",
    "\n",
    "print(f'Masukkan kalimat/paragraph: {Kalimat_atau_Paragraf}')\n",
    "print(f'Banyak kata: {Banyak}')"
   ]
  }
 ],
 "metadata": {
  "kernelspec": {
   "display_name": "Python 3",
   "language": "python",
   "name": "python3"
  },
  "language_info": {
   "codemirror_mode": {
    "name": "ipython",
    "version": 3
   },
   "file_extension": ".py",
   "mimetype": "text/x-python",
   "name": "python",
   "nbconvert_exporter": "python",
   "pygments_lexer": "ipython3",
   "version": "3.11.7"
  }
 },
 "nbformat": 4,
 "nbformat_minor": 2
}
