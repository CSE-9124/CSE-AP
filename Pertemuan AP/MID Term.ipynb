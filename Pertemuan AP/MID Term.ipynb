{
 "cells": [
  {
   "cell_type": "markdown",
   "metadata": {},
   "source": [
    "# <font color = '#5DADE2'> <center> UTS Algoritma Sisfo 2023 </font>\n",
    "\n",
    "<center> ========================= Information =========================\n",
    "\n",
    "Direct Link: https://www.hackerrank.com/contests/mt-alpro-2023/challenges\n",
    "\n",
    "Soal : https://drive.google.com/file/d/1XOcZa9BdEcZyvChPt73MuBX-Qo2iw93E/view?usp=sharing"
   ]
  },
  {
   "cell_type": "markdown",
   "metadata": {},
   "source": [
    "### <font color = \"00bfc4\"> No. 1 </font>\n",
    "Baris pertama input dua bilangan a dan b. Baris kedua merupakan hasil dari 20\\*a - 23*b"
   ]
  },
  {
   "cell_type": "code",
   "execution_count": 1,
   "metadata": {},
   "outputs": [
    {
     "name": "stdout",
     "output_type": "stream",
     "text": [
      "-43\n"
     ]
    }
   ],
   "source": [
    "a, b = map(int, input().split())\n",
    "\n",
    "hasil = 20*a - 23*b\n",
    "\n",
    "print(hasil)"
   ]
  },
  {
   "cell_type": "markdown",
   "metadata": {},
   "source": [
    "### <font color = \"00bfc4\"> No. 2 </font>\n",
    "Baris pertama input dua bilangan a, b, c. Baris kedua merupakan hasil perhitungan 20\\*a +\n",
    "23\\*b - 12\\*c jika c genap, 20\\*a - 23\\*b + 12\\*c jika c ganjil."
   ]
  },
  {
   "cell_type": "code",
   "execution_count": 2,
   "metadata": {},
   "outputs": [
    {
     "name": "stdout",
     "output_type": "stream",
     "text": [
      "-30\n"
     ]
    }
   ],
   "source": [
    "a, b, c = map(int, input().split())\n",
    "\n",
    "if c % 2 == 0:\n",
    "    hasil = (20*a) + (23*b) - (12*c)\n",
    "else:\n",
    "    hasil = (20*a) - (23*b) + (12*c)\n",
    "    \n",
    "print(hasil)"
   ]
  },
  {
   "cell_type": "markdown",
   "metadata": {},
   "source": [
    "### <font color = \"00bfc4\"> No. 3 </font>\n",
    "Input suatu barisan bilangan positif yang terdiri dari n bilangan. Tentukan selisih nilai max\n",
    "dan nilai min.\n",
    "\n",
    "Baris pertama berupa list bilangan positif. Baris kedua merupakan output selisih nilai max\n",
    "dan nilai min"
   ]
  },
  {
   "cell_type": "code",
   "execution_count": 3,
   "metadata": {},
   "outputs": [
    {
     "name": "stdout",
     "output_type": "stream",
     "text": [
      "12\n"
     ]
    }
   ],
   "source": [
    "nilai = sorted(set(map(int, input().split())))\n",
    "nilai = list(nilai)\n",
    "\n",
    "nilai_max = nilai[-1]\n",
    "nilai_min = nilai[0]\n",
    "\n",
    "selisih = nilai_max - nilai_min\n",
    "\n",
    "print(selisih)"
   ]
  },
  {
   "cell_type": "markdown",
   "metadata": {},
   "source": [
    "### <font color = \"00bfc4\"> No. 4 </font>\n",
    "Input matriks berukuran 3x3. Tampilkan minor(i, j) dari matriks tersebut, yaitu matriks 2x2\n",
    "yang diperoleh dengan menghilangkan baris ke-i dan kolom ke-j. Contoh\n",
    "\n",
    "Tiga baris pertama berupa matriks. Baris ke-4 input baris dan kolom yang akan\n",
    "dihilangkan."
   ]
  },
  {
   "cell_type": "code",
   "execution_count": 4,
   "metadata": {},
   "outputs": [
    {
     "name": "stdout",
     "output_type": "stream",
     "text": [
      "1 3\n",
      "7 9\n"
     ]
    }
   ],
   "source": [
    "matrix = [list(map(int, input().split())) for _ in range(3)]\n",
    "\n",
    "hapus_baris, hapus_kolom = map(int, input().split())\n",
    "hasil_matrix = [[matrix[i][j] for j in range(3) if j != hapus_kolom - 1] for i in range(3) if i != hapus_baris - 1]\n",
    "\n",
    "for baris in hasil_matrix:\n",
    "    print(*baris)"
   ]
  },
  {
   "cell_type": "markdown",
   "metadata": {},
   "source": [
    "### <font color = \"00bfc4\"> No. 5 </font>\n",
    "Input matriks berukuran n x n (n > 1). Tampilkan transpose dari matriks tersebut.\n",
    "Transpose dari suatu matriks adalah mengubah kolom ke-i menjadi baris ke-i ataupun\n",
    "sebaliknya (baris ke-i menjadi kolom ke-i).\n",
    "\n",
    "Input baris pertama menyatakan orde matriks ( n ). n baris berikutnya berupa matriks yang\n",
    "diinput. Output n baris terakhir berupa transpose."
   ]
  },
  {
   "cell_type": "code",
   "execution_count": 5,
   "metadata": {},
   "outputs": [
    {
     "name": "stdout",
     "output_type": "stream",
     "text": [
      "1 3\n",
      "2 4\n"
     ]
    }
   ],
   "source": [
    "def transpose_matrix(matrix):\n",
    "    return [[matrix[j][i] for j in range(len(matrix))] for i in range(len(matrix[0]))]\n",
    "\n",
    "n = int(input())\n",
    "\n",
    "matrix = []\n",
    "for _ in range(n):\n",
    "    row = list(map(int, input().split()))\n",
    "    matrix.append(row)\n",
    "\n",
    "transposed_matrix = transpose_matrix(matrix)\n",
    "\n",
    "for row in transposed_matrix:\n",
    "    print(\" \".join(map(str, row)))"
   ]
  },
  {
   "cell_type": "markdown",
   "metadata": {},
   "source": [
    "### <font color = \"00bfc4\"> No. 6 </font>\n",
    "\n",
    "Tentukan suku ke-n dari barisan rekursif dengan aturan :\n",
    "\n",
    "An = 2A[n−1] − 3A[n−2]\n",
    "\n",
    "A[0] = 0 ,A[1] = 2\n",
    "\n",
    "Input baris pertama berupa nilai n ( n >= 0). Baris kedua merupakan output nilai a\n",
    "n"
   ]
  },
  {
   "cell_type": "code",
   "execution_count": 6,
   "metadata": {},
   "outputs": [
    {
     "name": "stdout",
     "output_type": "stream",
     "text": [
      "2\n"
     ]
    }
   ],
   "source": [
    "A = [0, 2]\n",
    "\n",
    "n = int(input())\n",
    "\n",
    "for i in range(2, n+2):\n",
    "    An = (2*A[i-1]) - (3*A[i-2])\n",
    "    A.append(An)\n",
    "\n",
    "print(A[-2])"
   ]
  },
  {
   "cell_type": "markdown",
   "metadata": {},
   "source": [
    "### <font color = \"00bfc4\"> No. 7 </font>\n",
    "\n",
    "Tentukan determinan matriks 2x2. Input 2 baris pertama berupa matriks. Baris ketiga\n",
    "merupakan determinannya.\n",
    "\n",
    "Misalkan matriks 2x2 tersebut:\n",
    "\n",
    "a b\n",
    "\n",
    "c d\n",
    "\n",
    "Determinan dihitung dengan a\\*d - b\\*c"
   ]
  },
  {
   "cell_type": "code",
   "execution_count": 7,
   "metadata": {},
   "outputs": [
    {
     "name": "stdout",
     "output_type": "stream",
     "text": [
      "4\n"
     ]
    }
   ],
   "source": [
    "a, b = map(int, input().split())\n",
    "c, d = map(int, input().split())\n",
    "\n",
    "kali_ad = a * d\n",
    "kali_cb = c * b\n",
    "\n",
    "hasil = kali_ad - kali_cb\n",
    "\n",
    "print(hasil)"
   ]
  },
  {
   "cell_type": "markdown",
   "metadata": {},
   "source": [
    "### <font color = \"00bfc4\"> No. 8 </font>\n",
    "Tentukan banyak huruf vokal yang muncul dari suatu string yang diinput. Baris pertama\n",
    "berupa string, baris kedua berupa jumlah huruf vokal pada string tersebut."
   ]
  },
  {
   "cell_type": "code",
   "execution_count": 8,
   "metadata": {},
   "outputs": [
    {
     "name": "stdout",
     "output_type": "stream",
     "text": [
      "2\n"
     ]
    }
   ],
   "source": [
    "string = str(input())\n",
    "\n",
    "huruf_vokal = ['a', 'i', 'u', 'e', 'o']\n",
    "\n",
    "jumlah_huruf_vokal = 0\n",
    "for i in range(len(string)):\n",
    "    if string[i] in huruf_vokal:\n",
    "        jumlah_huruf_vokal += 1\n",
    "        \n",
    "print(jumlah_huruf_vokal)"
   ]
  }
 ],
 "metadata": {
  "kernelspec": {
   "display_name": "Python 3",
   "language": "python",
   "name": "python3"
  },
  "language_info": {
   "codemirror_mode": {
    "name": "ipython",
    "version": 3
   },
   "file_extension": ".py",
   "mimetype": "text/x-python",
   "name": "python",
   "nbconvert_exporter": "python",
   "pygments_lexer": "ipython3",
   "version": "3.11.7"
  }
 },
 "nbformat": 4,
 "nbformat_minor": 2
}
