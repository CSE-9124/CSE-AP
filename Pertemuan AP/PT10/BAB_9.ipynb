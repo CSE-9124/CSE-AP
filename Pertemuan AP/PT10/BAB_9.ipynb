{
 "cells": [
  {
   "cell_type": "markdown",
   "metadata": {},
   "source": [
    "# <font color = '555555'> <center> BAB IX : File dalam Python"
   ]
  },
  {
   "cell_type": "markdown",
   "metadata": {},
   "source": [
    "## <font color = '#5DADE2'> A. Membuat File </font>\n"
   ]
  },
  {
   "cell_type": "markdown",
   "metadata": {},
   "source": [
    "### <font color = \"00bfc4\"> Metode I"
   ]
  },
  {
   "cell_type": "code",
   "execution_count": 3,
   "metadata": {},
   "outputs": [],
   "source": [
    "daftar_mhs = open('Daftar Mahasiswa.txt', 'w')\n",
    "\n",
    "daftar_mhs.write('H071231001 \\t: A. Muhammad Zulfikar\\n')\n",
    "daftar_mhs.write('H071231002 \\t: Fitriani Jaya\\n')\n",
    "daftar_mhs.write('H071231003 \\t: Angga\\n')\n",
    "\n",
    "daftar_mhs.close()"
   ]
  },
  {
   "cell_type": "markdown",
   "metadata": {},
   "source": [
    "### <font color = \"00bfc4\"> Metode II"
   ]
  },
  {
   "cell_type": "code",
   "execution_count": null,
   "metadata": {},
   "outputs": [],
   "source": [
    "## Error jika File yang dibuat sudah ada\n",
    "daftar_mhs = open('Daftar Mahasiswa.txt', 'x')"
   ]
  },
  {
   "cell_type": "code",
   "execution_count": 12,
   "metadata": {},
   "outputs": [
    {
     "name": "stdout",
     "output_type": "stream",
     "text": [
      "H071231001 \t: A. Muhammad Zulfikar\n",
      "H071231002 \t: Fitriani Jaya\n",
      "H071231003 \t: Angga\n",
      "\n",
      "H071231001\n",
      "H071231002\n",
      "H071231003\n",
      "\n",
      "A. Muhammad Zulfikar\n",
      "Fitriani Jaya\n",
      "Angga\n"
     ]
    }
   ],
   "source": [
    "with open('Daftar Mahasiswa.txt') as txt:\n",
    "    for i in txt:\n",
    "        print(i[:-1])\n",
    "\n",
    "print()\n",
    "## Hanya memunculkan NIM saja\n",
    "with open('Daftar Mahasiswa.txt') as txt:\n",
    "    for i in txt:\n",
    "        print(i[:i.find('\\t')-1])\n",
    "\n",
    "print()\n",
    "## Hanya memunculkan Nama saja\n",
    "with open('Daftar Mahasiswa.txt') as txt:\n",
    "    for i in txt:\n",
    "        print(i[i.find('\\t')+3:-1])"
   ]
  },
  {
   "cell_type": "code",
   "execution_count": 5,
   "metadata": {},
   "outputs": [
    {
     "data": {
      "text/plain": [
       "['H071231001 \\t: A. Muhammad Zulfikar',\n",
       " 'H071231002 \\t: Fitriani Jaya',\n",
       " 'H071231003 \\t: Angga']"
      ]
     },
     "execution_count": 5,
     "metadata": {},
     "output_type": "execute_result"
    }
   ],
   "source": [
    "nama_mahasiswa =[]\n",
    "with open('Daftar Mahasiswa.txt') as txt:\n",
    "    for i in txt:\n",
    "        nama_mahasiswa.append(i[:-1])\n",
    "\n",
    "nama_mahasiswa"
   ]
  },
  {
   "cell_type": "code",
   "execution_count": 9,
   "metadata": {},
   "outputs": [
    {
     "name": "stdout",
     "output_type": "stream",
     "text": [
      "{'H071231003', 'H071231002', 'H071231001'}\n",
      "('A. Muhammad Zulfikar', 'Fitriani Jaya', 'Angga')\n"
     ]
    }
   ],
   "source": [
    "## Ingin dipisahkan nim kedalam set dan nama kedalam tuple\n",
    "nim = []\n",
    "nama = []\n",
    "with open('Daftar Mahasiswa.txt') as txt:\n",
    "    for i in txt:\n",
    "        nim.append(i[:i.find('\\t')-1])\n",
    "        nama.append(i[14:-1])\n",
    "\n",
    "print(set(nim))\n",
    "print(tuple(nama))"
   ]
  }
 ],
 "metadata": {
  "kernelspec": {
   "display_name": "Python 3",
   "language": "python",
   "name": "python3"
  },
  "language_info": {
   "codemirror_mode": {
    "name": "ipython",
    "version": 3
   },
   "file_extension": ".py",
   "mimetype": "text/x-python",
   "name": "python",
   "nbconvert_exporter": "python",
   "pygments_lexer": "ipython3",
   "version": "3.11.6"
  }
 },
 "nbformat": 4,
 "nbformat_minor": 2
}
