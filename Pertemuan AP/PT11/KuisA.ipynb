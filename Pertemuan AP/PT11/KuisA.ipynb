{
 "cells": [
  {
   "cell_type": "markdown",
   "metadata": {},
   "source": [
    "# <font color = \"#FF69B4\"> <center> Tugas Algoritma dan Pemrogaman </font>\n",
    "<font color = \"White\">Carilah paragraf (minimal 3 paragraf):\n",
    "\n",
    "Tentang Sistem Informasi\n",
    "\n",
    "Lalu gunakan package re dan menerapkan metode:\n",
    "\n",
    "--> Finder\n",
    "\n",
    "--> Search\n",
    "\n",
    "--> Split\n",
    "\n",
    "--> Sub"
   ]
  },
  {
   "cell_type": "markdown",
   "metadata": {},
   "source": [
    "<font color = \"White\">\n",
    "Paragraf 1 :\n",
    "\n",
    "Jurusan Sistem Informasi adalah salah satu jurusan di bidang ilmu komputer yang fokus pada pengembangan dan penerapan teknologi informasi dalam konteks bisnis dan organisasi. Jurusan ini menggabungkan aspek teknologi informasi, manajemen, dan analisis bisnis untuk menciptakan solusi informatika yang efektif dan efisien. Jurusan Sistem Informasi membekali mahasiswanya dengan pengetahuan dan keterampilan dalam mengelola sistem informasi, pengembangan perangkat lunak, manajemen proyek IT, analisis bisnis, basis data, keamanan informasi, serta strategi dan inovasi teknologi. Melalui kombinasi ini, mahasiswa jurusan Sistem Informasi belajar untuk memahami kebutuhan bisnis, merancang sistem informasi yang tepat, mengimplementasikan solusi teknologi yang inovatif, dan mengoptimalkan penggunaan informasi untuk mendukung pengambilan keputusan yang baik.\n",
    "\n",
    "Paragraf 2 :\n",
    "\n",
    "Jurusan Sistem Informasi melatih mahasiswa dalam kemampuan analisis dan pemecahan masalah yang kuat. Mereka belajar untuk mengidentifikasi masalah dalam konteks bisnis, menganalisis persyaratan pengguna, dan merancang solusi yang tepat menggunakan teknologi informasi. Kemampuan ini sangat dibutuhkan dalam dunia bisnis yang kompleks, di mana biasanya membutuhkan programer yang dapat memahami tantangan yang dihadapi dan menghasilkan solusi inovatif. Salah satu mata kuliah yang dapat melatih kemampuan tersebut adalah Algoritma dan Pemrograman. Algoritma adalah prosedur pemecahan masalah dalam bahasa sangat alami (bahasa manusia), langkah-langkah pemecahan masalah dalam algoritma nantinya akan dituangkan menjadi program komputer untuk mempercepat/mengotomasi penyelesaian masalah. Sedangkan untuk bahasa pemrograman (Programing Language) yang digunakan untuk menuangkan algoritma kedalam bahasa program sangat tergantung selera dan penguasaan pada individu programmer. \n",
    "\n",
    "Paragraf 3 :\n",
    "\n",
    "Jurusan Sistem Informasi mempelajari berbagai bahasa pemrograman yang berguna dalam pengembangan sistem informasi. Beberapa bahasa pemrograman yang dipelajari di jurusan ini antara lain Python, Javascript, Java, dan C++. Dengan kombinasi antara kemampuan programming dan manajemen, lulusan Sistem Informasi sangat cocok untuk masuk sebagai ahli IT di perusahaan. Peluang kerja yang sesuai dengan kompetensi lulusan jurusan Sistem Informasi adalah sangat luas dan menjanjikan. Jurusan  Sistem Informasi menawarkan prospek karir yang menarik dan beragam di dunia digital saat ini. Jadi kamu tidak perlu khawatir tentang peluang kerja dengan jurusan sistem informasi. Beberapa karir yang bisa dipilih oleh lulusan jurusan Sistem Informasi antara lain System Analyst, Software Developer, Konsultan IT, Cyber Security, Database Administrator, IT Project Manager, dan Konsultan Sistem Informasi."
   ]
  },
  {
   "cell_type": "code",
   "execution_count": 76,
   "metadata": {},
   "outputs": [],
   "source": [
    "## MEMBUAT FILE PARAGRAF\n",
    "\n",
    "with open(\"Paragraf.txt\", 'w') as P :\n",
    "    P.write('''Jurusan Sistem Informasi adalah salah satu jurusan di bidang ilmu komputer yang fokus pada pengembangan dan penerapan teknologi informasi dalam konteks bisnis dan \n",
    "organisasi. Jurusan ini menggabungkan aspek teknologi informasi, manajemen, dan analisis bisnis untuk menciptakan solusi informatika yang efektif dan efisien. Jurusan \n",
    "Sistem Informasi membekali mahasiswanya dengan pengetahuan dan keterampilan dalam mengelola sistem informasi, pengembangan perangkat lunak, manajemen proyek IT, analisis \n",
    "bisnis, basis data, keamanan informasi, serta strategi dan inovasi teknologi. Melalui kombinasi ini, mahasiswa jurusan Sistem Informasi belajar untuk memahami kebutuhan \n",
    "bisnis, merancang sistem informasi yang tepat, mengimplementasikan solusi teknologi yang inovatif, dan mengoptimalkan penggunaan informasi untuk mendukung pengambilan \n",
    "keputusan yang baik.\\n\\n''')\n",
    "    \n",
    "    P.write('''Jurusan Sistem Informasi melatih mahasiswa dalam kemampuan analisis dan pemecahan masalah yang kuat. Mereka belajar untuk mengidentifikasi masalah dalam konteks bisnis, \n",
    "menganalisis persyaratan pengguna, dan merancang solusi yang tepat menggunakan teknologi informasi. Kemampuan ini sangat dibutuhkan dalam dunia bisnis yang kompleks, di \n",
    "mana biasanya membutuhkan programer yang dapat memahami tantangan yang dihadapi dan menghasilkan solusi inovatif. Salah satu mata kuliah yang dapat melatih kemampuan \n",
    "tersebut adalah Algoritma dan Pemrograman. Algoritma adalah prosedur pemecahan masalah dalam bahasa sangat alami (bahasa manusia), langkah-langkah pemecahan masalah \n",
    "dalam algoritma nantinya akan dituangkan menjadi program komputer untuk mempercepat/mengotomasi penyelesaian masalah. Sedangkan untuk bahasa pemrograman (Programing \n",
    "Language) yang digunakan untuk menuangkan algoritma kedalam bahasa program sangat tergantung selera dan penguasaan pada individu programmer.\\n\\n''')\n",
    "    \n",
    "    P.write('''Jurusan Sistem Informasi mempelajari berbagai bahasa pemrograman yang berguna dalam pengembangan sistem informasi. Beberapa bahasa pemrograman yang dipelajari di jurusan \n",
    "ini antara lain Python, Javascript, Java, dan C++. Dengan kombinasi antara kemampuan programming dan manajemen, lulusan Sistem Informasi sangat cocok untuk masuk sebagai \n",
    "ahli IT di perusahaan. Peluang kerja yang sesuai dengan kompetensi lulusan jurusan Sistem Informasi adalah sangat luas dan menjanjikan. Jurusan  Sistem Informasi \n",
    "menawarkan prospek karir yang menarik dan beragam di dunia digital saat ini. Jadi kamu tidak perlu khawatir tentang peluang kerja dengan jurusan sistem informasi. \n",
    "Beberapa karir yang bisa dipilih oleh lulusan jurusan Sistem Informasi antara lain System Analyst, Software Developer, Konsultan IT, Cyber Security, Database \n",
    "Administrator, IT Project Manager, dan Konsultan Sistem Informasi.\n",
    "''')"
   ]
  },
  {
   "cell_type": "code",
   "execution_count": 94,
   "metadata": {},
   "outputs": [],
   "source": [
    "import re\n",
    "\n",
    "with open(\"Paragraf.txt\", 'r') as R :\n",
    "    Teks = R.read()\n"
   ]
  },
  {
   "cell_type": "markdown",
   "metadata": {},
   "source": [
    "## <font color = '#9B59B6'> Metode Finder"
   ]
  },
  {
   "cell_type": "code",
   "execution_count": null,
   "metadata": {},
   "outputs": [],
   "source": [
    "'''Metode Finder/.findall()'''\n",
    "Pola = r'\\b[A-Z]{2}'\n",
    "cocok = re.findall(Pola, Teks)\n",
    "\n",
    "print(f'Mengembalikan kecocokan sebanyak {len(cocok)} yaitu:')\n",
    "\n",
    "for i in cocok:\n",
    "    print(i)"
   ]
  },
  {
   "cell_type": "markdown",
   "metadata": {},
   "source": [
    "## <font color = '#9B59B6'> Metode Search"
   ]
  },
  {
   "cell_type": "code",
   "execution_count": 81,
   "metadata": {},
   "outputs": [
    {
     "name": "stdout",
     "output_type": "stream",
     "text": [
      "<re.Match object; span=(1386, 1411), match='Algoritma dan Pemrograman'>\n",
      "kecocokan ditemukan di dalam paragraf 2\n"
     ]
    }
   ],
   "source": [
    "'''Metode Search/.search()'''\n",
    "Pola = r'\\b[A-Za-z]{9}\\s[a-n]{3}\\s[A-Za-z]{11}'\n",
    "cocok = re.search(Pola, Teks)\n",
    "\n",
    "print(cocok)\n",
    "if cocok:\n",
    "    print(\"kecocokan ditemukan di dalam paragraf 2\")\n",
    "else:\n",
    "    print(\"kecocokan tidak ditemukan di dalam paragraf\")"
   ]
  },
  {
   "cell_type": "markdown",
   "metadata": {},
   "source": [
    "## <font color = '#9B59B6'> Metode Split"
   ]
  },
  {
   "cell_type": "code",
   "execution_count": 79,
   "metadata": {},
   "outputs": [
    {
     "name": "stdout",
     "output_type": "stream",
     "text": [
      "['System Analyst', 'Software Developer', 'Konsultan IT', 'Cyber Security', 'Database Administrator', 'IT Project Manager', '', 'Konsultan Sistem Informasi.']\n"
     ]
    }
   ],
   "source": [
    "'''Metode Split/.split()'''\n",
    "# Pada paragraf 3\n",
    "Teks1 = 'System Analyst, Software Developer, Konsultan IT, Cyber Security, Database Administrator, IT Project Manager, dan Konsultan Sistem Informasi.'\n",
    "\n",
    "Pola = r', |dan '\n",
    "cocok = re.split(Pola, Teks3)\n",
    "\n",
    "print(cocok)"
   ]
  },
  {
   "cell_type": "markdown",
   "metadata": {},
   "source": [
    "## </font> <font color = '#9B59B6'> Metode Sub"
   ]
  },
  {
   "cell_type": "code",
   "execution_count": 93,
   "metadata": {},
   "outputs": [
    {
     "name": "stdout",
     "output_type": "stream",
     "text": [
      "Python, Javascript, Java, dan C#.\n"
     ]
    }
   ],
   "source": [
    "'''Metode Sub/.sub()'''\n",
    "# Pada paragraf 3\n",
    "Teks2 = \"Python, Javascript, Java, dan C++.\"\n",
    "\n",
    "Pola = r'\\b[C]\\+\\+'\n",
    "replace = 'C#'\n",
    "\n",
    "hasil = re.sub(Pola, replace, Teks2)\n",
    "\n",
    "print(hasil)"
   ]
  }
 ],
 "metadata": {
  "kernelspec": {
   "display_name": "Python 3",
   "language": "python",
   "name": "python3"
  },
  "language_info": {
   "codemirror_mode": {
    "name": "ipython",
    "version": 3
   },
   "file_extension": ".py",
   "mimetype": "text/x-python",
   "name": "python",
   "nbconvert_exporter": "python",
   "pygments_lexer": "ipython3",
   "version": "3.11.6"
  }
 },
 "nbformat": 4,
 "nbformat_minor": 2
}
