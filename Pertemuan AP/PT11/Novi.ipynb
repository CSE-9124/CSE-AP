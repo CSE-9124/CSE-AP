{
 "cells": [
  {
   "cell_type": "markdown",
   "metadata": {},
   "source": [
    "Paragraf 1:\n",
    "\n",
    "Perkembangan teknologi telah mengubah cara kita memahami dan mengakses pendidikan. Teknologi telah memungkinkan pembelajaran menjadi lebih inklusif dan terjangkau. Dengan hadirnya platform pembelajaran online, siswa dari seluruh dunia dapat mengakses sumber daya pendidikan yang berkualitas tanpa batasan geografis. Hal ini memungkinkan pembelajaran jarak jauh, yang menjadi semakin penting dalam situasi seperti pandemi, di mana akses ke sekolah fisik terbatas.\n",
    "\n",
    "Paragraf 2:\n",
    "\n",
    "Teknologi juga telah memperkaya pengalaman belajar. Melalui penggunaan video pembelajaran, simulasi, dan perangkat lunak pendidikan, siswa memiliki akses ke berbagai alat yang membantu mereka memahami konsep-konsep yang sulit. Selain itu, teknologi memungkinkan personalisasi pembelajaran, di mana siswa dapat mengikuti kurikulum yang sesuai dengan tingkat keterampilan dan minat mereka. Ini berarti bahwa setiap siswa dapat belajar dengan cara yang paling efektif bagi mereka sendiri.\n",
    "\n",
    "Paragraf 3:\n",
    "\n",
    "Namun, penggunaan teknologi dalam pendidikan juga memunculkan beberapa tantangan. Salah satunya adalah masalah kesenjangan akses ke perangkat dan konektivitas internet yang berkualitas. Banyak siswa, terutama di daerah yang kurang berkembang, mungkin tidak memiliki akses yang sama ke teknologi, yang dapat menciptakan kesenjangan dalam pembelajaran. Selain itu, perlu diperhatikan juga isu-isu privasi dan keamanan data, terutama ketika data pribadi siswa digunakan dalam platform pembelajaran online. Oleh karena itu, pendidikan teknologi harus diatur dan diimplementasikan dengan bijak untuk memastikan manfaatnya dapat dinikmati oleh semua siswa tanpa mengorbankan hak mereka."
   ]
  },
  {
   "cell_type": "code",
   "execution_count": 3,
   "metadata": {},
   "outputs": [],
   "source": [
    "with open(\"Paragraf Novi.txt\", 'w') as N:\n",
    "    N.write('''     Perkembangan teknologi telah mengubah cara kita memahami dan mengakses pendidikan. Teknologi telah memungkinkan pembelajaran menjadi lebih inklusif dan \n",
    "terjangkau. Dengan hadirnya platform pembelajaran online, siswa dari seluruh dunia dapat mengakses sumber daya pendidikan yang berkualitas tanpa batasan geografis. Hal ini\n",
    "memungkinkan pembelajaran jarak jauh, yang menjadi semakin penting dalam situasi seperti pandemi, di mana akses ke sekolah fisik terbatas.\\n''')\n",
    "    \n",
    "    N.write('''     Teknologi juga telah memperkaya pengalaman belajar. Melalui penggunaan video pembelajaran, simulasi, dan perangkat lunak pendidikan, siswa memiliki akses\n",
    "ke berbagai alat yang membantu mereka memahami konsep-konsep yang sulit. Selain itu, teknologi memungkinkan personalisasi pembelajaran, di mana siswa dapat mengikuti \n",
    "kurikulum yang sesuai dengan tingkat keterampilan dan minat mereka. Ini berarti bahwa setiap siswa dapat belajar dengan cara yang paling efektif bagi mereka sendiri.\\n''')\n",
    "    \n",
    "    N.write('''     Namun, penggunaan teknologi dalam pendidikan juga memunculkan beberapa tantangan. Salah satunya adalah masalah kesenjangan akses ke perangkat dan konektivitas\n",
    "internet yang berkualitas. Banyak siswa, terutama di daerah yang kurang berkembang, mungkin tidak memiliki akses yang sama ke teknologi, yang dapat menciptakan kesenjangan \n",
    "dalam pembelajaran. Selain itu, perlu diperhatikan juga isu-isu privasi dan keamanan data, terutama ketika data pribadi siswa digunakan dalam platform pembelajaran online.\n",
    "Oleh karena itu, pendidikan teknologi harus diatur dan diimplementasikan dengan bijak untuk memastikan manfaatnya dapat dinikmati oleh semua siswa tanpa mengorbankan hak \n",
    "mereka.''')"
   ]
  },
  {
   "cell_type": "code",
   "execution_count": 20,
   "metadata": {},
   "outputs": [
    {
     "name": "stdout",
     "output_type": "stream",
     "text": [
      "Mengembalikan kecocokan sebanyak 18 yaitu:\n",
      "pendidikan\n",
      "pembelajaran\n",
      "pembelajaran\n",
      "pendidikan\n",
      "pembelajaran\n",
      "pengalaman\n",
      "penggunaan\n",
      "pembelajaran\n",
      "pendidikan\n",
      "personalisas\n",
      "pembelajaran\n",
      "penggunaan\n",
      "pendidikan\n",
      "pembelajaran\n",
      "perhatikan\n",
      "pembelajaran\n",
      "pendidikan\n",
      "plementasika\n"
     ]
    }
   ],
   "source": [
    "import re\n",
    "\n",
    "with open(\"Paragraf Novi.txt\", 'r') as R:\n",
    "    text = R.read()\n",
    "\n",
    "'''Metode Finder'''\n",
    "pola = r'p[a-z]{9,11}'\n",
    "cocok = re.findall(pola, text)\n",
    "\n",
    "print(f'Mengembalikan kecocokan sebanyak {len(cocok)} yaitu:')\n",
    "\n",
    "for i in cocok:\n",
    "    print(i)"
   ]
  },
  {
   "cell_type": "code",
   "execution_count": 22,
   "metadata": {},
   "outputs": [
    {
     "name": "stdout",
     "output_type": "stream",
     "text": [
      "<re.Match object; span=(76, 86), match='pendidikan'>\n",
      "kecocokan ditemukan di dalam paragraf\n"
     ]
    }
   ],
   "source": [
    "'''Metode Search'''\n",
    "pola = r'Teknologi|pendidikan'\n",
    "cocok = re.search(pola, text)\n",
    "\n",
    "print(cocok)\n",
    "if cocok:\n",
    "    print(\"kecocokan ditemukan di dalam paragraf\")\n",
    "else:\n",
    "    print(\"kecocokan tidak ditemukan di dalam paragraf\")"
   ]
  }
 ],
 "metadata": {
  "kernelspec": {
   "display_name": "Python 3",
   "language": "python",
   "name": "python3"
  },
  "language_info": {
   "codemirror_mode": {
    "name": "ipython",
    "version": 3
   },
   "file_extension": ".py",
   "mimetype": "text/x-python",
   "name": "python",
   "nbconvert_exporter": "python",
   "pygments_lexer": "ipython3",
   "version": "3.11.6"
  }
 },
 "nbformat": 4,
 "nbformat_minor": 2
}
