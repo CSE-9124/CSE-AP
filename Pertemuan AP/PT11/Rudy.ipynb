{
 "cells": [
  {
   "cell_type": "markdown",
   "metadata": {},
   "source": [
    "## <font color='WHITE'><center>Tugas Algoritma dan Pemrograman\n",
    "<font color='WHITE'>Carilah paragraf (minimal 3 paragraf) tentang Sistem Informasi. Lalu gunakan package re dan menerapkan metode : Findall, Search, Split, Sub.\n",
    "\n"
   ]
  },
  {
   "cell_type": "markdown",
   "metadata": {},
   "source": [
    "<font color='WHITE'>Kode untuk membuat paragraf :"
   ]
  },
  {
   "cell_type": "code",
   "execution_count": 1,
   "metadata": {},
   "outputs": [],
   "source": [
    "import re\n",
    "import os\n",
    "\n",
    "\n",
    "''' MEMBUAT PARAGRAF '''\n",
    "\n",
    "def enter(text):\n",
    "    while text:\n",
    "        text = text.replace('\\n',' ')\n",
    "        line, text = text[:100], text[100:]\n",
    "        file.write(line + '\\n')\n",
    "\n",
    "def contoh_findall():\n",
    "    base_nim = 'H0712310'\n",
    "    for i in range(1, 16):\n",
    "        file.write(f'{base_nim}{i:02d}\\n')\n",
    "    file.write(f'H071231015\\n')\n",
    "    \n",
    "\n",
    "with open(\"Paragraf.txt\", \"w\") as file:\n",
    "    file.write(f\"{'='*100}\\n{'PERAN SISTEM INFORMASI DALAM MENGELOLAH DATA'.center(100)}\\n{'='*100}\\n\\n\")\n",
    "    text = \"    Sistem Informasi yang kuat memainkan peran penting dalam pengelolaan data dengan memungkinkan pemanfaatan metode regular expression (regex) seperti findall, search, split, dan sub untuk memanipulasi dan mengelola data. Ini memberikan kemampuan bagi organisasi untuk menganalisis informasi yang sangat penting dalam pengambilan keputusan strategis. Selain itu, dengan adanya kemampuan ini, pengolahan data menjadi lebih efisien dan memudahkan proses manajemen informasi secara menyeluruh. Berikut adalah bagaimana Sistem Informasi terkait dengan penggunaan metode regex tersebut:\"\n",
    "    enter(text)\n",
    "    file.write(f\"\\n1. Findall :\\n\")\n",
    "    text = \"Dalam Sistem Informasi, findall dapat digunakan untuk mencari pola atau kecocokan tertentu dalam data yang disimpan. Misalnya, pencarian nomor telepon, alamat email, atau pola tertentu dalam dokumen.\"\n",
    "    enter(text)\n",
    "    file.write(f\"\\nBerikut adalah contoh findall :\\n\")\n",
    "    contoh_findall()\n",
    "    text = \"Jika ada NIM yang sama maka akan dapat terdeteksi, contohnya pada NIM H071231015. Jika menggunakan metode findall, maka akan terbuat list yang berisi H071231015. NIM yang terganda ini akan segera diketahui.\"\n",
    "    enter(text)\n",
    "    file.write(f\"\\n\\n2. Search :\\n\")\n",
    "    text = \"    Dalam Sistem Informasi, search membantu dalam memverifikasi apakah suatu pola atau data tertentu ada atau tidak dalam teks atau informasi yang disimpan. Ini dapat digunakan untuk memeriksa validitas data. Berikut adalah contoh search :\"\n",
    "    enter(text)\n",
    "    file.write(f\"\\nSelasa, Rabu, Kamis, Jumat, Sabtu, Minggu\\n\")\n",
    "    text = \"Dengan menggunakan metode search, kita bisa mengetahui apakah nama hari sudah ada atau tidak. Contohnya jika kita mencari hari 'Senin' maka tidak akan muncul karena 'Senin' tidak ada dalam data.\\n\\n\"\n",
    "    enter(text)\n",
    "    file.write(f\"\\n\\n3. Split :\\n\")\n",
    "    text = \"    Split dalam regex memungkinkan pemisahan teks atau data berdasarkan pola tertentu. Dalam Sistem Informasi, ini bisa digunakan untuk memproses data terstruktur untuk menjadi data seperti yang kita inginkan.\"\n",
    "    enter(text)\n",
    "    file.write(f\"\\nBerikut adalah contoh split :\\n\")\n",
    "    file.write(f\"123-456-7890;PQR,ABC;890-567-1234;XYZ,LMN\\n\")\n",
    "    file.write(f\"Dengan menggunakan metode split, kita dapat memisahkan kode data diatas menjadi perbagian yang kita \\ninginkan.\")\n",
    "\n",
    "\n",
    "\n",
    "\n",
    "\n"
   ]
  }
 ],
 "metadata": {
  "kernelspec": {
   "display_name": "Python 3",
   "language": "python",
   "name": "python3"
  },
  "language_info": {
   "codemirror_mode": {
    "name": "ipython",
    "version": 3
   },
   "file_extension": ".py",
   "mimetype": "text/x-python",
   "name": "python",
   "nbconvert_exporter": "python",
   "pygments_lexer": "ipython3",
   "version": "3.11.6"
  }
 },
 "nbformat": 4,
 "nbformat_minor": 2
}
