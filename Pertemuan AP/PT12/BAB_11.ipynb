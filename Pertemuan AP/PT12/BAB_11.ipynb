{
 "cells": [
  {
   "cell_type": "markdown",
   "metadata": {},
   "source": [
    "# <font color = '555555'> <center> BAB XI : Object Oriented Programming (OOP)"
   ]
  },
  {
   "cell_type": "markdown",
   "metadata": {},
   "source": [
    "## <font color = '#5DADE2'> A. Membuat Class </font>\n",
    "Pembuatan class dalam Bahasa Pemrograman Python sangatlah mudah.\n",
    "\n",
    "Contoh:"
   ]
  },
  {
   "cell_type": "code",
   "execution_count": 1,
   "metadata": {},
   "outputs": [],
   "source": [
    "## Class ##\n",
    "class Mahasiswa:\n",
    "    ## Contructor (__init__ Function) ##\n",
    "    def __init__(self, Nama, NIM, Angkatan):\n",
    "        self.nama = Nama\n",
    "        self.nim = NIM\n",
    "        self.angkatan = Angkatan\n",
    "\n",
    "    ## Method ##\n",
    "    def info(self):\n",
    "        print(f'Nama     : {self.nama}')\n",
    "        print(f'Nim      : {self.nim}')\n",
    "        print(f'Angkatan : {self.angkatan}')"
   ]
  },
  {
   "cell_type": "markdown",
   "metadata": {},
   "source": [
    "## <font color = '#5DADE2'> B. Membuat Object </font>\n",
    "Pembuatan object dalam Bahasa Pemrograman Python cukup memanggil nama class-nya titik (.)"
   ]
  },
  {
   "cell_type": "code",
   "execution_count": 2,
   "metadata": {},
   "outputs": [
    {
     "name": "stdout",
     "output_type": "stream",
     "text": [
      "Nama     : Abdul\n",
      "Nim      : H071230xx\n",
      "Angkatan : 2023\n"
     ]
    }
   ],
   "source": [
    "## Object ##\n",
    "mahasiswa = Mahasiswa('Abdul', 'H071230xx', 2023)\n",
    "mahasiswa.info()"
   ]
  },
  {
   "cell_type": "markdown",
   "metadata": {},
   "source": [
    "## <font color = '#5DADE2'> C. Membuat Method dalam Class </font>"
   ]
  }
 ],
 "metadata": {
  "kernelspec": {
   "display_name": "Python 3",
   "language": "python",
   "name": "python3"
  },
  "language_info": {
   "codemirror_mode": {
    "name": "ipython",
    "version": 3
   },
   "file_extension": ".py",
   "mimetype": "text/x-python",
   "name": "python",
   "nbconvert_exporter": "python",
   "pygments_lexer": "ipython3",
   "version": "3.11.6"
  }
 },
 "nbformat": 4,
 "nbformat_minor": 2
}
