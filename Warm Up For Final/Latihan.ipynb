{
 "cells": [
  {
   "cell_type": "markdown",
   "metadata": {},
   "source": [
    "# <font color = '555555'> <center> Latihan For Final </font>"
   ]
  },
  {
   "cell_type": "markdown",
   "metadata": {},
   "source": [
    "### <font color = \"00bfc4\"> No. 1"
   ]
  },
  {
   "cell_type": "code",
   "execution_count": 1,
   "metadata": {},
   "outputs": [
    {
     "name": "stdout",
     "output_type": "stream",
     "text": [
      "B3\n"
     ]
    }
   ],
   "source": [
    "N = int(input())\n",
    "Kelas = ''\n",
    "Kluster = ''\n",
    "\n",
    "if N <= 0:\n",
    "    Kelas += 'A'\n",
    "elif 0 < N <= 100:\n",
    "    Kelas += 'B'\n",
    "elif 100 < N <= 200:\n",
    "    Kelas += 'C'\n",
    "else:\n",
    "    Kelas += 'D'\n",
    "\n",
    "if N % 3 == 0:\n",
    "    Kluster += '1'\n",
    "elif N % 3 == 1:\n",
    "    Kluster += '2'\n",
    "elif N % 3 == 2:\n",
    "    Kluster += '3'\n",
    "\n",
    "print(Kelas + Kluster)"
   ]
  },
  {
   "cell_type": "markdown",
   "metadata": {},
   "source": [
    "### <font color = \"00bfc4\"> No. 2"
   ]
  },
  {
   "cell_type": "code",
   "execution_count": 2,
   "metadata": {},
   "outputs": [
    {
     "name": "stdout",
     "output_type": "stream",
     "text": [
      "12\n"
     ]
    }
   ],
   "source": [
    "def FPB(x, y):\n",
    "    minimum = min(x, y)\n",
    "\n",
    "    for i in range(1, minimum+1):\n",
    "        if (x % i == 0 and y % i == 0):\n",
    "            fpb = i\n",
    "    return fpb\n",
    "\n",
    "def KPK(x, y):\n",
    "    return (x * y) // FPB(x, y)\n",
    "\n",
    "x, y = map(int, input().split())\n",
    "print(KPK(x, y))"
   ]
  },
  {
   "cell_type": "markdown",
   "metadata": {},
   "source": [
    "### <font color = \"00bfc4\"> No. 3"
   ]
  },
  {
   "cell_type": "code",
   "execution_count": 4,
   "metadata": {},
   "outputs": [
    {
     "name": "stdout",
     "output_type": "stream",
     "text": [
      "[5]\n"
     ]
    }
   ],
   "source": [
    "N = list(set(map(int, input().split())))\n",
    "\n",
    "print(N)"
   ]
  },
  {
   "cell_type": "markdown",
   "metadata": {},
   "source": [
    "### <font color = \"00bfc4\"> No. 4"
   ]
  },
  {
   "cell_type": "code",
   "execution_count": 5,
   "metadata": {},
   "outputs": [
    {
     "name": "stdout",
     "output_type": "stream",
     "text": [
      "h;-&-;ll-#-^>^w-#-rld\n"
     ]
    }
   ],
   "source": [
    "S = input().replace('o', '-#-').replace('e', ';-&-;').replace('b', '+??=??-').replace('a', '_$').replace('c', '*;:x').replace('g', '<=+=>').replace('n', '#1#').replace(' ', '^>^')\n",
    "\n",
    "print(S)"
   ]
  },
  {
   "cell_type": "markdown",
   "metadata": {},
   "source": [
    "### <font color = \"00bfc4\"> No. 5"
   ]
  },
  {
   "cell_type": "code",
   "execution_count": 13,
   "metadata": {},
   "outputs": [
    {
     "name": "stdout",
     "output_type": "stream",
     "text": [
      "1 5\n"
     ]
    }
   ],
   "source": [
    "def Maks(*angka):\n",
    "    maks = angka[0]\n",
    "    for B in angka:\n",
    "        if B > maks:\n",
    "            maks = B\n",
    "\n",
    "    return maks\n",
    "\n",
    "def Mini(*angka):\n",
    "    mini = angka[0]\n",
    "    for K in angka:\n",
    "        if K < mini:\n",
    "            mini = K\n",
    "\n",
    "    return mini\n",
    "\n",
    "N = list(map(int, input().split()))\n",
    "\n",
    "print(f'{Mini(*N)} {Maks(*N)}')"
   ]
  },
  {
   "cell_type": "markdown",
   "metadata": {},
   "source": [
    "### <font color = \"00bfc4\"> No. 6"
   ]
  },
  {
   "cell_type": "code",
   "execution_count": 16,
   "metadata": {},
   "outputs": [
    {
     "name": "stdout",
     "output_type": "stream",
     "text": [
      "120\n"
     ]
    }
   ],
   "source": [
    "def Faktorial(n):\n",
    "    if n == 1 or n == 0:\n",
    "        return 1\n",
    "    else:\n",
    "        return n * Faktorial(n - 1)\n",
    "    \n",
    "N = int(input())\n",
    "print(Faktorial(N))"
   ]
  },
  {
   "cell_type": "markdown",
   "metadata": {},
   "source": [
    "### <font color = \"00bfc4\"> No. 7"
   ]
  },
  {
   "cell_type": "code",
   "execution_count": 18,
   "metadata": {},
   "outputs": [
    {
     "name": "stdout",
     "output_type": "stream",
     "text": [
      "0 1 1 2 3 5 8 13 21 34 "
     ]
    }
   ],
   "source": [
    "N = int(input())\n",
    "U1 = 0\n",
    "U2 = 1\n",
    "\n",
    "if N > 0:\n",
    "    for i in range(N):\n",
    "        print(U1, end=' ')\n",
    "        Un = U1 + U2\n",
    "        U1 = U2\n",
    "        U2 = Un\n",
    "elif N == 1:\n",
    "    print(0)\n",
    "else:\n",
    "    print('Bilangan Positif')"
   ]
  },
  {
   "cell_type": "markdown",
   "metadata": {},
   "source": [
    "### <font color = \"00bfc4\"> No. 8"
   ]
  },
  {
   "cell_type": "code",
   "execution_count": 6,
   "metadata": {},
   "outputs": [
    {
     "name": "stdout",
     "output_type": "stream",
     "text": [
      "DIBATALKAN\n"
     ]
    }
   ],
   "source": [
    "N = int(input())\n",
    "\n",
    "for i in range(N):\n",
    "    K1, K2 = map(int, input().split())\n",
    "    A = list(map(int, input().split()))\n",
    "\n",
    "    datang_awal = []\n",
    "    for i in A:\n",
    "        if i <= 0:\n",
    "            datang_awal.append(i)\n",
    "\n",
    "    if len(datang_awal) >= K2:\n",
    "        print('LANJUT ASISTENSI')\n",
    "    else:\n",
    "        print('DIBATALKAN')"
   ]
  }
 ],
 "metadata": {
  "kernelspec": {
   "display_name": "Python 3",
   "language": "python",
   "name": "python3"
  },
  "language_info": {
   "codemirror_mode": {
    "name": "ipython",
    "version": 3
   },
   "file_extension": ".py",
   "mimetype": "text/x-python",
   "name": "python",
   "nbconvert_exporter": "python",
   "pygments_lexer": "ipython3",
   "version": "3.11.6"
  }
 },
 "nbformat": 4,
 "nbformat_minor": 2
}
